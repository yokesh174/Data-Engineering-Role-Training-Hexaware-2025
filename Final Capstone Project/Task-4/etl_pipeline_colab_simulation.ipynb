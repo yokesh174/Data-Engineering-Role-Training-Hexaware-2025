{
  "nbformat": 4,
  "nbformat_minor": 0,
  "metadata": {
    "colab": {
      "provenance": []
    },
    "kernelspec": {
      "name": "python3",
      "display_name": "Python 3"
    },
    "language_info": {
      "name": "python"
    }
  },
  "cells": [
    {
      "cell_type": "markdown",
      "source": [
        "# 🧩 Step 1: Load Base Sales and Inventory Data\n",
        "This step imports the required Python libraries (Pandas, NumPy) and loads base **sales** and **inventory** datasets.  \n",
        "It simulates cleaned data from previous ETL tasks.\n"
      ],
      "metadata": {
        "id": "HlW5H1usiwCs"
      }
    },
    {
      "cell_type": "code",
      "execution_count": 2,
      "metadata": {
        "colab": {
          "base_uri": "https://localhost:8080/"
        },
        "id": "H30LRvQYhXW7",
        "outputId": "7eb87aec-5169-4331-e99f-0e2b2992e8cd"
      },
      "outputs": [
        {
          "output_type": "stream",
          "name": "stdout",
          "text": [
            "--- DataFrames Loaded Successfully ---\n",
            "Sales:\n",
            "   product_id  product_name  quantity_sold  total_amount  sale_date\n",
            "0         101         Mouse             10         250.0 2023-10-01\n",
            "1         102  Coffee Maker              5         275.0 2023-10-15\n",
            "2         101         Mouse             15         375.0 2023-10-20\n",
            "3         103         Cable             20         100.0 2023-10-25\n",
            "4         102  Coffee Maker              8         440.0 2023-10-28\n",
            "5         104          Lamp              3          90.0 2023-10-30\n",
            "\n",
            "Inventory:\n",
            "   product_id  current_stock  cost_of_goods\n",
            "0         101             40           15.0\n",
            "1         102             25           30.0\n",
            "2         103             10            2.0\n",
            "3         104             17           18.0\n"
          ]
        }
      ],
      "source": [
        "# Cell 1: imports and load base data\n",
        "import pandas as pd\n",
        "import numpy as np\n",
        "\n",
        "# --- 1. LOAD CLEANED SALES AND INVENTORY DATA ---\n",
        "sales_data_base = {\n",
        "    'product_id': [101, 102, 101, 103, 102, 104],\n",
        "    'product_name': ['Mouse', 'Coffee Maker', 'Mouse', 'Cable', 'Coffee Maker', 'Lamp'],\n",
        "    'quantity_sold': [10, 5, 15, 20, 8, 3],\n",
        "    'total_amount': [250.00, 275.00, 375.00, 100.00, 440.00, 90.00],\n",
        "    'sale_date': pd.to_datetime(['2023-10-01', '2023-10-15', '2023-10-20', '2023-10-25', '2023-10-28', '2023-10-30'])\n",
        "}\n",
        "df_sales = pd.DataFrame(sales_data_base)\n",
        "\n",
        "inventory_data = {\n",
        "    'product_id': [101, 102, 103, 104],\n",
        "    'current_stock': [40, 25, 10, 17],\n",
        "    'cost_of_goods': [15.00, 30.00, 2.00, 18.00]\n",
        "}\n",
        "df_inventory = pd.DataFrame(inventory_data)\n",
        "\n",
        "print(\"--- DataFrames Loaded Successfully ---\")\n",
        "print(\"Sales:\")\n",
        "print(df_sales)\n",
        "print(\"\\nInventory:\")\n",
        "print(df_inventory)\n"
      ]
    },
    {
      "cell_type": "markdown",
      "source": [
        "# 🔄 Step 2: Simulate ETL Process (Append & Inventory Update)\n",
        "This step simulates an **incremental ETL update**:\n",
        "- Appends new sales records to the main sales dataset.\n",
        "- Updates inventory stock based on sales quantity.\n",
        "- Adds new products if not already in inventory.\n"
      ],
      "metadata": {
        "id": "BJfGQCG-i0qC"
      }
    },
    {
      "cell_type": "code",
      "source": [
        "# Cell 2: simulate new batch and ETL merge/append + inventory updates\n",
        "# --- 2. SIMULATE ETL PIPELINE (INCREMENTAL UPDATE/MERGE) ---\n",
        "new_sales_data = {\n",
        "    'product_id': [101, 105, 102],\n",
        "    'product_name': ['Mouse', 'Webcam', 'Coffee Maker'],\n",
        "    'quantity_sold': [5, 10, 2],\n",
        "    'total_amount': [125.00, 400.00, 110.00],\n",
        "    'sale_date': pd.to_datetime(['2023-11-01', '2023-11-02', '2023-11-03'])\n",
        "}\n",
        "df_new_sales = pd.DataFrame(new_sales_data)\n",
        "\n",
        "# ETL Step 1: Append new data to the target sales table (Simulating Delta Lake APPEND/MERGE)\n",
        "df_updated_sales = pd.concat([df_sales, df_new_sales], ignore_index=True)\n",
        "\n",
        "# ETL Step 2: Update Inventory Stock (Transactional Update)\n",
        "for index, row in df_new_sales.iterrows():\n",
        "    p_id = row['product_id']\n",
        "    qty = row['quantity_sold']\n",
        "\n",
        "    if p_id in df_inventory['product_id'].values:\n",
        "        df_inventory.loc[df_inventory['product_id'] == p_id, 'current_stock'] -= qty\n",
        "    else:\n",
        "        new_row = pd.DataFrame({\n",
        "            'product_id': [p_id],\n",
        "            'current_stock': [0 - qty],  # initial negative stock after sale\n",
        "            'cost_of_goods': [40.00]     # assumed cost for new product\n",
        "        })\n",
        "        df_inventory = pd.concat([df_inventory, new_row], ignore_index=True)\n",
        "\n",
        "print(\"\\n--- ETL Steps Completed ---\")\n",
        "print(f\"Total Sales Records (Base: {len(df_sales)}, New: {len(df_new_sales)}): {len(df_updated_sales)}\")\n",
        "print(\"\\nUpdated Sales (sample):\")\n",
        "print(df_updated_sales)\n",
        "print(\"\\nUpdated Inventory:\")\n",
        "print(df_inventory)\n"
      ],
      "metadata": {
        "colab": {
          "base_uri": "https://localhost:8080/"
        },
        "id": "4B0HWdb4iGNr",
        "outputId": "459208c2-4051-4e00-d195-04b14b5a5b66"
      },
      "execution_count": 3,
      "outputs": [
        {
          "output_type": "stream",
          "name": "stdout",
          "text": [
            "\n",
            "--- ETL Steps Completed ---\n",
            "Total Sales Records (Base: 6, New: 3): 9\n",
            "\n",
            "Updated Sales (sample):\n",
            "   product_id  product_name  quantity_sold  total_amount  sale_date\n",
            "0         101         Mouse             10         250.0 2023-10-01\n",
            "1         102  Coffee Maker              5         275.0 2023-10-15\n",
            "2         101         Mouse             15         375.0 2023-10-20\n",
            "3         103         Cable             20         100.0 2023-10-25\n",
            "4         102  Coffee Maker              8         440.0 2023-10-28\n",
            "5         104          Lamp              3          90.0 2023-10-30\n",
            "6         101         Mouse              5         125.0 2023-11-01\n",
            "7         105        Webcam             10         400.0 2023-11-02\n",
            "8         102  Coffee Maker              2         110.0 2023-11-03\n",
            "\n",
            "Updated Inventory:\n",
            "   product_id  current_stock  cost_of_goods\n",
            "0         101             35           15.0\n",
            "1         102             23           30.0\n",
            "2         103             10            2.0\n",
            "3         104             17           18.0\n",
            "4         105            -10           40.0\n"
          ]
        }
      ]
    },
    {
      "cell_type": "markdown",
      "source": [
        "# 💾 Step 3: Save Updated Data as CSV\n",
        "This step saves the updated **sales** and **inventory** data to CSV files.  \n",
        "You can download them locally or save directly to Google Drive.\n"
      ],
      "metadata": {
        "id": "LrD4Ri0Ai5eN"
      }
    },
    {
      "cell_type": "code",
      "source": [
        "# Cell 3a: save to Colab filesystem and download\n",
        "output_sales_file = 'updated_sales_data.csv'\n",
        "output_inventory_file = 'updated_inventory_data.csv'\n",
        "\n",
        "df_updated_sales.to_csv(output_sales_file, index=False)\n",
        "df_inventory.to_csv(output_inventory_file, index=False)\n",
        "\n",
        "print(f\"Saved: {output_sales_file}, {output_inventory_file}\")\n",
        "\n",
        "# Download to your machine\n",
        "from google.colab import files\n",
        "files.download(output_sales_file)\n",
        "files.download(output_inventory_file)\n"
      ],
      "metadata": {
        "colab": {
          "base_uri": "https://localhost:8080/",
          "height": 34
        },
        "id": "OBNdprv1iOUS",
        "outputId": "396fed14-b7d0-4825-e4fe-d4ad6db345af"
      },
      "execution_count": 4,
      "outputs": [
        {
          "output_type": "stream",
          "name": "stdout",
          "text": [
            "Saved: updated_sales_data.csv, updated_inventory_data.csv\n"
          ]
        },
        {
          "output_type": "display_data",
          "data": {
            "text/plain": [
              "<IPython.core.display.Javascript object>"
            ],
            "application/javascript": [
              "\n",
              "    async function download(id, filename, size) {\n",
              "      if (!google.colab.kernel.accessAllowed) {\n",
              "        return;\n",
              "      }\n",
              "      const div = document.createElement('div');\n",
              "      const label = document.createElement('label');\n",
              "      label.textContent = `Downloading \"${filename}\": `;\n",
              "      div.appendChild(label);\n",
              "      const progress = document.createElement('progress');\n",
              "      progress.max = size;\n",
              "      div.appendChild(progress);\n",
              "      document.body.appendChild(div);\n",
              "\n",
              "      const buffers = [];\n",
              "      let downloaded = 0;\n",
              "\n",
              "      const channel = await google.colab.kernel.comms.open(id);\n",
              "      // Send a message to notify the kernel that we're ready.\n",
              "      channel.send({})\n",
              "\n",
              "      for await (const message of channel.messages) {\n",
              "        // Send a message to notify the kernel that we're ready.\n",
              "        channel.send({})\n",
              "        if (message.buffers) {\n",
              "          for (const buffer of message.buffers) {\n",
              "            buffers.push(buffer);\n",
              "            downloaded += buffer.byteLength;\n",
              "            progress.value = downloaded;\n",
              "          }\n",
              "        }\n",
              "      }\n",
              "      const blob = new Blob(buffers, {type: 'application/binary'});\n",
              "      const a = document.createElement('a');\n",
              "      a.href = window.URL.createObjectURL(blob);\n",
              "      a.download = filename;\n",
              "      div.appendChild(a);\n",
              "      a.click();\n",
              "      div.remove();\n",
              "    }\n",
              "  "
            ]
          },
          "metadata": {}
        },
        {
          "output_type": "display_data",
          "data": {
            "text/plain": [
              "<IPython.core.display.Javascript object>"
            ],
            "application/javascript": [
              "download(\"download_52173d6a-ae51-4fbc-8c23-a696b8bee6de\", \"updated_sales_data.csv\", 346)"
            ]
          },
          "metadata": {}
        },
        {
          "output_type": "display_data",
          "data": {
            "text/plain": [
              "<IPython.core.display.Javascript object>"
            ],
            "application/javascript": [
              "\n",
              "    async function download(id, filename, size) {\n",
              "      if (!google.colab.kernel.accessAllowed) {\n",
              "        return;\n",
              "      }\n",
              "      const div = document.createElement('div');\n",
              "      const label = document.createElement('label');\n",
              "      label.textContent = `Downloading \"${filename}\": `;\n",
              "      div.appendChild(label);\n",
              "      const progress = document.createElement('progress');\n",
              "      progress.max = size;\n",
              "      div.appendChild(progress);\n",
              "      document.body.appendChild(div);\n",
              "\n",
              "      const buffers = [];\n",
              "      let downloaded = 0;\n",
              "\n",
              "      const channel = await google.colab.kernel.comms.open(id);\n",
              "      // Send a message to notify the kernel that we're ready.\n",
              "      channel.send({})\n",
              "\n",
              "      for await (const message of channel.messages) {\n",
              "        // Send a message to notify the kernel that we're ready.\n",
              "        channel.send({})\n",
              "        if (message.buffers) {\n",
              "          for (const buffer of message.buffers) {\n",
              "            buffers.push(buffer);\n",
              "            downloaded += buffer.byteLength;\n",
              "            progress.value = downloaded;\n",
              "          }\n",
              "        }\n",
              "      }\n",
              "      const blob = new Blob(buffers, {type: 'application/binary'});\n",
              "      const a = document.createElement('a');\n",
              "      a.href = window.URL.createObjectURL(blob);\n",
              "      a.download = filename;\n",
              "      div.appendChild(a);\n",
              "      a.click();\n",
              "      div.remove();\n",
              "    }\n",
              "  "
            ]
          },
          "metadata": {}
        },
        {
          "output_type": "display_data",
          "data": {
            "text/plain": [
              "<IPython.core.display.Javascript object>"
            ],
            "application/javascript": [
              "download(\"download_a7aab314-9a09-43eb-9fa2-496738a49b2b\", \"updated_inventory_data.csv\", 99)"
            ]
          },
          "metadata": {}
        }
      ]
    },
    {
      "cell_type": "markdown",
      "source": [
        "# 📊 Step 4: SQL-Style Analysis (Top 5 Best-Selling Products)\n",
        "This step performs a **SQL-style aggregation** using Pandas:\n",
        "- Groups data by product name.\n",
        "- Calculates total revenue and total units sold.\n",
        "- Displays the **Top 5 best-selling products**.\n"
      ],
      "metadata": {
        "id": "h-lh4D8Ti_vn"
      }
    },
    {
      "cell_type": "code",
      "source": [
        "# Cell 4: SQL-style aggregation to find top 5 best-selling products\n",
        "top_5_products = df_updated_sales.groupby('product_name').agg(\n",
        "    Total_Revenue=('total_amount', 'sum'),\n",
        "    Total_Units_Sold=('quantity_sold', 'sum')\n",
        ").reset_index().sort_values(by='Total_Revenue', ascending=False).head(5)\n",
        "\n",
        "print(\"\\n--- SQL-Style Analysis: Top 5 Best-Selling Products ---\")\n",
        "print(top_5_products)\n"
      ],
      "metadata": {
        "colab": {
          "base_uri": "https://localhost:8080/"
        },
        "id": "pCHWmZPvifmC",
        "outputId": "36fbb914-6f0b-411e-e4b6-2166d9a5be9c"
      },
      "execution_count": 5,
      "outputs": [
        {
          "output_type": "stream",
          "name": "stdout",
          "text": [
            "\n",
            "--- SQL-Style Analysis: Top 5 Best-Selling Products ---\n",
            "   product_name  Total_Revenue  Total_Units_Sold\n",
            "1  Coffee Maker          825.0                15\n",
            "3         Mouse          750.0                30\n",
            "4        Webcam          400.0                10\n",
            "0         Cable          100.0                20\n",
            "2          Lamp           90.0                 3\n"
          ]
        }
      ]
    }
  ]
}