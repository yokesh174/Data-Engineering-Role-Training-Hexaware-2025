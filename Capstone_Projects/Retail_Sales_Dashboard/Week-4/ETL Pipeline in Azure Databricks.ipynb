{
 "cells": [
  {
   "cell_type": "code",
   "execution_count": 0,
   "metadata": {
    "application/vnd.databricks.v1+cell": {
     "cellMetadata": {
      "byteLimit": 2048000,
      "rowLimit": 10000
     },
     "inputWidgets": {},
     "nuid": "054bcf98-1a83-4309-af6f-c6f9fea846dd",
     "showTitle": false,
     "tableResultSettingsMap": {},
     "title": ""
    }
   },
   "outputs": [
    {
     "output_type": "stream",
     "name": "stdout",
     "output_type": "stream",
     "text": [
      "Saved final metrics to Delta table: category_performance_metrics\nRegistered temporary view for SQL query: v_sales_data\n"
     ]
    }
   ],
   "source": [
    "# AZURE DATABRICKS NOTEBOOK - CELL 1 (PYTHON)\n",
    "# Completes: Upload, Transform, Save Final Metrics (Delta Table)\n",
    "\n",
    "from pyspark.sql.functions import sum, avg\n",
    "\n",
    "# 1. Load Data\n",
    "df = spark.read.csv(\n",
    "    \"/FileStore/tables/cleaned_sales_with_metrics.csv\", \n",
    "    header=True, \n",
    "    inferSchema=True\n",
    ")\n",
    "\n",
    "# 2. Transform: Calculate Final Metric (Profit Margin by Category) \n",
    "category_metrics = df.groupBy(\"category\").agg(\n",
    "    sum(\"revenue\").alias(\"Total_Category_Revenue\"),\n",
    "    avg(\"profit_margin\").alias(\"Average_Profit_Margin\")\n",
    ")\n",
    "\n",
    "# 3. Register Temporary View (Crucial FIX for SQL Query in Cell 2)\n",
    "# This makes the full transaction data accessible to the SQL cell.\n",
    "df.createOrReplaceTempView(\"v_sales_data\") \n",
    "\n",
    "\n",
    "# 4. Save Final Metrics (Week 4 Deliverable) \n",
    "# Saving to Delta Lake table (category_performance_metrics) is best practice.\n",
    "category_metrics.write.format(\"delta\").mode(\"overwrite\").saveAsTable(\"category_performance_metrics\")\n",
    "\n",
    "print(\"Saved final metrics to Delta table: category_performance_metrics\")\n",
    "print(\"Registered temporary view for SQL query: v_sales_data\")"
   ]
  },
  {
   "cell_type": "code",
   "execution_count": 0,
   "metadata": {
    "application/vnd.databricks.v1+cell": {
     "cellMetadata": {
      "byteLimit": 2048000,
      "implicitDf": true,
      "rowLimit": 10000
     },
     "inputWidgets": {},
     "nuid": "d21f5b12-dd0c-4ae8-b4d3-05c2077c83c0",
     "showTitle": false,
     "tableResultSettingsMap": {},
     "title": ""
    }
   },
   "outputs": [
    {
     "output_type": "display_data",
     "data": {
      "text/html": [
       "<style scoped>\n",
       "  .table-result-container {\n",
       "    max-height: 300px;\n",
       "    overflow: auto;\n",
       "  }\n",
       "  table, th, td {\n",
       "    border: 1px solid black;\n",
       "    border-collapse: collapse;\n",
       "  }\n",
       "  th, td {\n",
       "    padding: 5px;\n",
       "  }\n",
       "  th {\n",
       "    text-align: left;\n",
       "  }\n",
       "</style><div class='table-result-container'><table class='table-result'><thead style='background-color: white'><tr><th>product_name</th><th>Total_Quantity_Sold</th></tr></thead><tbody><tr><td>Eco Mug</td><td>15</td></tr><tr><td>Wireless Speaker</td><td>10</td></tr><tr><td>Laptop Pro</td><td>9</td></tr></tbody></table></div>"
      ]
     },
     "metadata": {
      "application/vnd.databricks.v1+output": {
       "addedWidgets": {},
       "aggData": [],
       "aggError": "",
       "aggOverflow": false,
       "aggSchema": [],
       "aggSeriesLimitReached": false,
       "aggType": "",
       "arguments": {},
       "columnCustomDisplayInfos": {},
       "data": [
        [
         "Eco Mug",
         15
        ],
        [
         "Wireless Speaker",
         10
        ],
        [
         "Laptop Pro",
         9
        ]
       ],
       "datasetInfos": [
        {
         "name": "_sqldf",
         "schema": {
          "fields": [
           {
            "metadata": {},
            "name": "product_name",
            "nullable": true,
            "type": "string"
           },
           {
            "metadata": {},
            "name": "Total_Quantity_Sold",
            "nullable": true,
            "type": "long"
           }
          ],
          "type": "struct"
         },
         "tableIdentifier": null,
         "typeStr": "pyspark.sql.connect.dataframe.DataFrame"
        }
       ],
       "dbfsResultPath": null,
       "isJsonSchema": true,
       "metadata": {
        "createTempViewForImplicitDf": true,
        "dataframeName": "_sqldf",
        "executionCount": 23
       },
       "overflow": false,
       "plotOptions": {
        "customPlotOptions": {},
        "displayType": "table",
        "pivotAggregation": null,
        "pivotColumns": null,
        "xColumns": null,
        "yColumns": null
       },
       "removedWidgets": [],
       "schema": [
        {
         "metadata": "{}",
         "name": "product_name",
         "type": "\"string\""
        },
        {
         "metadata": "{}",
         "name": "Total_Quantity_Sold",
         "type": "\"long\""
        }
       ],
       "type": "table"
      }
     },
     "output_type": "display_data"
    }
   ],
   "source": [
    "%sql\n",
    "-- AZURE DATABRICKS NOTEBOOK - CELL 2 (SQL)\n",
    "-- Completes: Find top 3 best-selling products \n",
    "SELECT \n",
    "  product_name,\n",
    "  SUM(quantity) AS Total_Quantity_Sold\n",
    "FROM v_sales_data -- Queries the temporary view created in the Python cell\n",
    "GROUP BY product_name\n",
    "ORDER BY Total_Quantity_Sold DESC\n",
    "LIMIT 3;"
   ]
  },
  {
   "cell_type": "code",
   "execution_count": 0,
   "metadata": {
    "application/vnd.databricks.v1+cell": {
     "cellMetadata": {
      "byteLimit": 2048000,
      "implicitDf": true,
      "rowLimit": 10000
     },
     "inputWidgets": {},
     "nuid": "55903e5f-17e5-4457-81dd-d9699c80bb6d",
     "showTitle": false,
     "tableResultSettingsMap": {},
     "title": ""
    }
   },
   "outputs": [
    {
     "output_type": "display_data",
     "data": {
      "text/html": [
       "<style scoped>\n",
       "  .table-result-container {\n",
       "    max-height: 300px;\n",
       "    overflow: auto;\n",
       "  }\n",
       "  table, th, td {\n",
       "    border: 1px solid black;\n",
       "    border-collapse: collapse;\n",
       "  }\n",
       "  th, td {\n",
       "    padding: 5px;\n",
       "  }\n",
       "  th {\n",
       "    text-align: left;\n",
       "  }\n",
       "</style><div class='table-result-container'><table class='table-result'><thead style='background-color: white'><tr><th>category</th><th>Total_Category_Revenue</th><th>Total_Category_Profit</th><th>Average_Profit_Margin</th></tr></thead><tbody><tr><td>Home Goods</td><td>221.25</td><td>null</td><td>0.3157894736842105</td></tr><tr><td>Electronics</td><td>3120.0</td><td>null</td><td>0.3151851851851851</td></tr></tbody></table></div>"
      ]
     },
     "metadata": {
      "application/vnd.databricks.v1+output": {
       "addedWidgets": {},
       "aggData": [],
       "aggError": "",
       "aggOverflow": false,
       "aggSchema": [],
       "aggSeriesLimitReached": false,
       "aggType": "",
       "arguments": {},
       "columnCustomDisplayInfos": {},
       "data": [
        [
         "Home Goods",
         221.25,
         null,
         0.3157894736842105
        ],
        [
         "Electronics",
         3120.0,
         null,
         0.3151851851851851
        ]
       ],
       "datasetInfos": [
        {
         "name": "_sqldf",
         "schema": {
          "fields": [
           {
            "metadata": {},
            "name": "category",
            "nullable": true,
            "type": "string"
           },
           {
            "metadata": {},
            "name": "Total_Category_Revenue",
            "nullable": true,
            "type": "double"
           },
           {
            "metadata": {},
            "name": "Total_Category_Profit",
            "nullable": true,
            "type": "double"
           },
           {
            "metadata": {},
            "name": "Average_Profit_Margin",
            "nullable": true,
            "type": "double"
           }
          ],
          "type": "struct"
         },
         "tableIdentifier": null,
         "typeStr": "pyspark.sql.connect.dataframe.DataFrame"
        }
       ],
       "dbfsResultPath": null,
       "isJsonSchema": true,
       "metadata": {
        "createTempViewForImplicitDf": true,
        "dataframeName": "_sqldf",
        "executionCount": 26
       },
       "overflow": false,
       "plotOptions": {
        "customPlotOptions": {},
        "displayType": "table",
        "pivotAggregation": null,
        "pivotColumns": null,
        "xColumns": null,
        "yColumns": null
       },
       "removedWidgets": [],
       "schema": [
        {
         "metadata": "{}",
         "name": "category",
         "type": "\"string\""
        },
        {
         "metadata": "{}",
         "name": "Total_Category_Revenue",
         "type": "\"double\""
        },
        {
         "metadata": "{}",
         "name": "Total_Category_Profit",
         "type": "\"double\""
        },
        {
         "metadata": "{}",
         "name": "Average_Profit_Margin",
         "type": "\"double\""
        }
       ],
       "type": "table"
      }
     },
     "output_type": "display_data"
    }
   ],
   "source": [
    "%sql\n",
    "SELECT * FROM category_performance_metrics;"
   ]
  },
  {
   "cell_type": "code",
   "execution_count": 0,
   "metadata": {
    "application/vnd.databricks.v1+cell": {
     "cellMetadata": {
      "byteLimit": 2048000,
      "rowLimit": 10000
     },
     "inputWidgets": {},
     "nuid": "9ca3ea95-ab5e-4f2f-aa38-10151f9d42b0",
     "showTitle": false,
     "tableResultSettingsMap": {},
     "title": ""
    }
   },
   "outputs": [
    {
     "output_type": "display_data",
     "data": {
      "text/html": [
       "<style scoped>\n",
       "  .table-result-container {\n",
       "    max-height: 300px;\n",
       "    overflow: auto;\n",
       "  }\n",
       "  table, th, td {\n",
       "    border: 1px solid black;\n",
       "    border-collapse: collapse;\n",
       "  }\n",
       "  th, td {\n",
       "    padding: 5px;\n",
       "  }\n",
       "  th {\n",
       "    text-align: left;\n",
       "  }\n",
       "</style><div class='table-result-container'><table class='table-result'><thead style='background-color: white'><tr><th>category</th><th>Total_Category_Revenue</th><th>Total_Category_Profit</th><th>Average_Profit_Margin</th></tr></thead><tbody><tr><td>Home Goods</td><td>221.25</td><td>null</td><td>0.3157894736842105</td></tr><tr><td>Electronics</td><td>3120.0</td><td>null</td><td>0.3151851851851851</td></tr></tbody></table></div>"
      ]
     },
     "metadata": {
      "application/vnd.databricks.v1+output": {
       "addedWidgets": {},
       "aggData": [],
       "aggError": "",
       "aggOverflow": false,
       "aggSchema": [],
       "aggSeriesLimitReached": false,
       "aggType": "",
       "arguments": {},
       "columnCustomDisplayInfos": {},
       "data": [
        [
         "Home Goods",
         221.25,
         null,
         0.3157894736842105
        ],
        [
         "Electronics",
         3120.0,
         null,
         0.3151851851851851
        ]
       ],
       "datasetInfos": [],
       "dbfsResultPath": null,
       "isJsonSchema": true,
       "metadata": {},
       "overflow": false,
       "plotOptions": {
        "customPlotOptions": {},
        "displayType": "table",
        "pivotAggregation": null,
        "pivotColumns": null,
        "xColumns": null,
        "yColumns": null
       },
       "removedWidgets": [],
       "schema": [
        {
         "metadata": "{}",
         "name": "category",
         "type": "\"string\""
        },
        {
         "metadata": "{}",
         "name": "Total_Category_Revenue",
         "type": "\"double\""
        },
        {
         "metadata": "{}",
         "name": "Total_Category_Profit",
         "type": "\"double\""
        },
        {
         "metadata": "{}",
         "name": "Average_Profit_Margin",
         "type": "\"double\""
        }
       ],
       "type": "table"
      }
     },
     "output_type": "display_data"
    }
   ],
   "source": [
    "# Load the saved Delta Table\n",
    "final_metrics_df = spark.read.table(\"category_performance_metrics\")\n",
    "\n",
    "# Display the data to activate the download option\n",
    "final_metrics_df.display()"
   ]
  }
 ],
 "metadata": {
  "application/vnd.databricks.v1+notebook": {
   "computePreferences": null,
   "dashboards": [],
   "environmentMetadata": {
    "base_environment": "",
    "environment_version": "3"
   },
   "inputWidgetPreferences": null,
   "language": "python",
   "notebookMetadata": {
    "mostRecentlyExecutedCommandWithImplicitDF": {
     "commandId": 5286778129135605,
     "dataframes": [
      "_sqldf"
     ]
    },
    "pythonIndentUnit": 4
   },
   "notebookName": "Untitled Notebook 2025-10-10 01:04:54",
   "widgets": {}
  },
  "language_info": {
   "name": "python"
  }
 },
 "nbformat": 4,
 "nbformat_minor": 0
}