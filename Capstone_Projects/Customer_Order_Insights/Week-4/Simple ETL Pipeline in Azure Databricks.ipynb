{
 "cells": [
  {
   "cell_type": "code",
   "execution_count": 0,
   "metadata": {
    "application/vnd.databricks.v1+cell": {
     "cellMetadata": {
      "byteLimit": 2048000,
      "rowLimit": 10000
     },
     "inputWidgets": {},
     "nuid": "5cd695b0-01c5-471d-9727-14028c290338",
     "showTitle": false,
     "tableResultSettingsMap": {},
     "title": ""
    }
   },
   "outputs": [
    {
     "output_type": "stream",
     "name": "stdout",
     "output_type": "stream",
     "text": [
      "Loaded 10 records from /FileStore/tables/cleaned_orders.csv.\n✅ ETL Pipeline completed. Results saved as a single CSV in folder: /FileStore/final_delivery_status_csv_output\n\n--- Top 5 Delayed Customers (using Spark SQL) ---\n+----------+------------------+\n|customerid|TotalDelayedOrders|\n+----------+------------------+\n|       104|                 1|\n|       101|                 1|\n|       102|                 1|\n|       103|                 1|\n|       106|                 1|\n+----------+------------------+\n\n"
     ]
    }
   ],
   "source": [
    "from pyspark.sql import SparkSession\n",
    "from pyspark.sql.functions import col\n",
    "\n",
    "# --- 0. Configuration ---\n",
    "# Input path remains the same\n",
    "INPUT_PATH = \"/FileStore/tables/cleaned_orders.csv\"\n",
    "# OUTPUT_PATH is now set to an accessible folder in FileStore for easy download\n",
    "OUTPUT_PATH = \"/FileStore/final_delivery_status_csv_output\"\n",
    "\n",
    "# SparkSession is typically pre-configured in Databricks\n",
    "\n",
    "# --- 1. Load Data (Extract) ---\n",
    "order_df = spark.read.csv(INPUT_PATH, header=True, inferSchema=True)\n",
    "print(f\"Loaded {order_df.count()} records from {INPUT_PATH}.\")\n",
    "order_df.createOrReplaceTempView(\"orders_staging\")\n",
    "\n",
    "# --- 2. Create ETL Pipeline (Transform) ---\n",
    "# Logic remains the same: update latest delivery status\n",
    "latest_status_df = spark.sql(\"\"\"\n",
    "    SELECT\n",
    "        *,\n",
    "        CASE\n",
    "            WHEN delayed = 1 AND actual_delivery_date IS NULL THEN 'CRITICAL DELAY'\n",
    "            WHEN delayed = 1 THEN 'RESOLVED DELAY'\n",
    "            WHEN actual_delivery_date IS NOT NULL THEN 'DELIVERED'\n",
    "            ELSE 'SHIPPED/PENDING'\n",
    "        END AS latest_status\n",
    "    FROM\n",
    "        orders_staging\n",
    "\"\"\")\n",
    "\n",
    "# --- 3. Save Results (Load as CSV) ---\n",
    "# Task: Save the results as CSV \n",
    "# coalesce(1) writes the entire DataFrame to a single CSV file inside the folder\n",
    "latest_status_df.coalesce(1).write.mode(\"overwrite\").csv(OUTPUT_PATH, header=True)\n",
    "print(f\"✅ ETL Pipeline completed. Results saved as a single CSV in folder: {OUTPUT_PATH}\")\n",
    "\n",
    "# --- 4. Optional: Run SQL Query ---\n",
    "print(\"\\n--- Top 5 Delayed Customers (using Spark SQL) ---\")\n",
    "spark.sql(\"\"\"\n",
    "    SELECT\n",
    "        customerid,\n",
    "        SUM(delayed) AS TotalDelayedOrders\n",
    "    FROM\n",
    "        orders_staging\n",
    "    GROUP BY\n",
    "        customerid\n",
    "    ORDER BY\n",
    "        TotalDelayedOrders DESC\n",
    "    LIMIT 5\n",
    "\"\"\").show()"
   ]
  }
 ],
 "metadata": {
  "application/vnd.databricks.v1+notebook": {
   "computePreferences": null,
   "dashboards": [],
   "environmentMetadata": {
    "base_environment": "",
    "environment_version": "4"
   },
   "inputWidgetPreferences": null,
   "language": "python",
   "notebookMetadata": {
    "pythonIndentUnit": 4
   },
   "notebookName": "Simple ETL Pipeline in Azure Databricks",
   "widgets": {}
  },
  "language_info": {
   "name": "python"
  }
 },
 "nbformat": 4,
 "nbformat_minor": 0
}