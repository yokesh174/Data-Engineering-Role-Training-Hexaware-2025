{
 "cells": [
  {
   "cell_type": "code",
   "execution_count": 0,
   "metadata": {
    "application/vnd.databricks.v1+cell": {
     "cellMetadata": {
      "byteLimit": 2048000,
      "rowLimit": 10000
     },
     "inputWidgets": {},
     "nuid": "385abb4b-5475-49ec-9a44-017b41fbf2cc",
     "showTitle": false,
     "tableResultSettingsMap": {},
     "title": ""
    }
   },
   "outputs": [],
   "source": [
    "from pyspark.sql import SparkSession\n",
    "spark = SparkSession.builder.appName(\"ECommerceAnalysis\").getOrCreate()\n"
   ]
  },
  {
   "cell_type": "markdown",
   "metadata": {
    "application/vnd.databricks.v1+cell": {
     "cellMetadata": {},
     "inputWidgets": {},
     "nuid": "6f5b149b-aab4-44b8-a734-88bf6bc6de02",
     "showTitle": false,
     "tableResultSettingsMap": {},
     "title": ""
    }
   },
   "source": [
    "# Step 2: Import Functions & Load CSV Files\n",
    "\n",
    "In this step, we import common Spark functions and load three CSV files into Spark DataFrames: customers, products, and orders.  \n",
    "After loading, we display all three DataFrames to verify the data.\n"
   ]
  },
  {
   "cell_type": "code",
   "execution_count": 0,
   "metadata": {
    "application/vnd.databricks.v1+cell": {
     "cellMetadata": {
      "byteLimit": 2048000,
      "rowLimit": 10000
     },
     "inputWidgets": {},
     "nuid": "e6c706ba-1e8d-42d3-b3ee-45be30b27004",
     "showTitle": false,
     "tableResultSettingsMap": {},
     "title": ""
    }
   },
   "outputs": [
    {
     "output_type": "display_data",
     "data": {
      "text/html": [
       "<style scoped>\n",
       "  .table-result-container {\n",
       "    max-height: 300px;\n",
       "    overflow: auto;\n",
       "  }\n",
       "  table, th, td {\n",
       "    border: 1px solid black;\n",
       "    border-collapse: collapse;\n",
       "  }\n",
       "  th, td {\n",
       "    padding: 5px;\n",
       "  }\n",
       "  th {\n",
       "    text-align: left;\n",
       "  }\n",
       "</style><div class='table-result-container'><table class='table-result'><thead style='background-color: white'><tr><th>customer_id</th><th>name</th><th>city</th><th>age</th></tr></thead><tbody><tr><td>1</td><td>Rahul Sharma</td><td>Bangalore</td><td>28</td></tr><tr><td>2</td><td>Priya Singh</td><td>Delhi</td><td>32</td></tr><tr><td>3</td><td>Aman Kumar</td><td>Hyderabad</td><td>25</td></tr><tr><td>4</td><td>Sneha Reddy</td><td>Chennai</td><td>35</td></tr><tr><td>5</td><td>Arjun Mehta</td><td>Mumbai</td><td>30</td></tr><tr><td>6</td><td>Divya Nair</td><td>Delhi</td><td>29</td></tr></tbody></table></div>"
      ]
     },
     "metadata": {
      "application/vnd.databricks.v1+output": {
       "addedWidgets": {},
       "aggData": [],
       "aggError": "",
       "aggOverflow": false,
       "aggSchema": [],
       "aggSeriesLimitReached": false,
       "aggType": "",
       "arguments": {},
       "columnCustomDisplayInfos": {},
       "data": [
        [
         1,
         "Rahul Sharma",
         "Bangalore",
         28
        ],
        [
         2,
         "Priya Singh",
         "Delhi",
         32
        ],
        [
         3,
         "Aman Kumar",
         "Hyderabad",
         25
        ],
        [
         4,
         "Sneha Reddy",
         "Chennai",
         35
        ],
        [
         5,
         "Arjun Mehta",
         "Mumbai",
         30
        ],
        [
         6,
         "Divya Nair",
         "Delhi",
         29
        ]
       ],
       "datasetInfos": [],
       "dbfsResultPath": null,
       "isJsonSchema": true,
       "metadata": {},
       "overflow": false,
       "plotOptions": {
        "customPlotOptions": {},
        "displayType": "table",
        "pivotAggregation": null,
        "pivotColumns": null,
        "xColumns": null,
        "yColumns": null
       },
       "removedWidgets": [],
       "schema": [
        {
         "metadata": "{}",
         "name": "customer_id",
         "type": "\"integer\""
        },
        {
         "metadata": "{}",
         "name": "name",
         "type": "\"string\""
        },
        {
         "metadata": "{}",
         "name": "city",
         "type": "\"string\""
        },
        {
         "metadata": "{}",
         "name": "age",
         "type": "\"integer\""
        }
       ],
       "type": "table"
      }
     },
     "output_type": "display_data"
    },
    {
     "output_type": "display_data",
     "data": {
      "text/html": [
       "<style scoped>\n",
       "  .table-result-container {\n",
       "    max-height: 300px;\n",
       "    overflow: auto;\n",
       "  }\n",
       "  table, th, td {\n",
       "    border: 1px solid black;\n",
       "    border-collapse: collapse;\n",
       "  }\n",
       "  th, td {\n",
       "    padding: 5px;\n",
       "  }\n",
       "  th {\n",
       "    text-align: left;\n",
       "  }\n",
       "</style><div class='table-result-container'><table class='table-result'><thead style='background-color: white'><tr><th>product_id</th><th>product_name</th><th>category</th><th>price</th></tr></thead><tbody><tr><td>101</td><td>Laptop</td><td>Electronics</td><td>55000</td></tr><tr><td>102</td><td>Mobile</td><td>Electronics</td><td>25000</td></tr><tr><td>103</td><td>Headphones</td><td>Electronics</td><td>3000</td></tr><tr><td>104</td><td>Chair</td><td>Furniture</td><td>5000</td></tr><tr><td>105</td><td>Book</td><td>Stationery</td><td>700</td></tr><tr><td>106</td><td>Shoes</td><td>Fashion</td><td>2500</td></tr></tbody></table></div>"
      ]
     },
     "metadata": {
      "application/vnd.databricks.v1+output": {
       "addedWidgets": {},
       "aggData": [],
       "aggError": "",
       "aggOverflow": false,
       "aggSchema": [],
       "aggSeriesLimitReached": false,
       "aggType": "",
       "arguments": {},
       "columnCustomDisplayInfos": {},
       "data": [
        [
         101,
         "Laptop",
         "Electronics",
         55000
        ],
        [
         102,
         "Mobile",
         "Electronics",
         25000
        ],
        [
         103,
         "Headphones",
         "Electronics",
         3000
        ],
        [
         104,
         "Chair",
         "Furniture",
         5000
        ],
        [
         105,
         "Book",
         "Stationery",
         700
        ],
        [
         106,
         "Shoes",
         "Fashion",
         2500
        ]
       ],
       "datasetInfos": [],
       "dbfsResultPath": null,
       "isJsonSchema": true,
       "metadata": {},
       "overflow": false,
       "plotOptions": {
        "customPlotOptions": {},
        "displayType": "table",
        "pivotAggregation": null,
        "pivotColumns": null,
        "xColumns": null,
        "yColumns": null
       },
       "removedWidgets": [],
       "schema": [
        {
         "metadata": "{}",
         "name": "product_id",
         "type": "\"integer\""
        },
        {
         "metadata": "{}",
         "name": "product_name",
         "type": "\"string\""
        },
        {
         "metadata": "{}",
         "name": "category",
         "type": "\"string\""
        },
        {
         "metadata": "{}",
         "name": "price",
         "type": "\"integer\""
        }
       ],
       "type": "table"
      }
     },
     "output_type": "display_data"
    },
    {
     "output_type": "display_data",
     "data": {
      "text/html": [
       "<style scoped>\n",
       "  .table-result-container {\n",
       "    max-height: 300px;\n",
       "    overflow: auto;\n",
       "  }\n",
       "  table, th, td {\n",
       "    border: 1px solid black;\n",
       "    border-collapse: collapse;\n",
       "  }\n",
       "  th, td {\n",
       "    padding: 5px;\n",
       "  }\n",
       "  th {\n",
       "    text-align: left;\n",
       "  }\n",
       "</style><div class='table-result-container'><table class='table-result'><thead style='background-color: white'><tr><th>order_id</th><th>customer_id</th><th>product_id</th><th>quantity</th><th>order_date</th></tr></thead><tbody><tr><td>1001</td><td>1</td><td>101</td><td>1</td><td>2024-01-10</td></tr><tr><td>1002</td><td>2</td><td>102</td><td>2</td><td>2024-01-12</td></tr><tr><td>1003</td><td>1</td><td>103</td><td>3</td><td>2024-02-05</td></tr><tr><td>1004</td><td>3</td><td>104</td><td>1</td><td>2024-02-08</td></tr><tr><td>1005</td><td>5</td><td>105</td><td>5</td><td>2024-03-01</td></tr><tr><td>1006</td><td>6</td><td>106</td><td>2</td><td>2024-03-15</td></tr><tr><td>1007</td><td>7</td><td>101</td><td>1</td><td>2024-03-20</td></tr></tbody></table></div>"
      ]
     },
     "metadata": {
      "application/vnd.databricks.v1+output": {
       "addedWidgets": {},
       "aggData": [],
       "aggError": "",
       "aggOverflow": false,
       "aggSchema": [],
       "aggSeriesLimitReached": false,
       "aggType": "",
       "arguments": {},
       "columnCustomDisplayInfos": {},
       "data": [
        [
         1001,
         1,
         101,
         1,
         "2024-01-10"
        ],
        [
         1002,
         2,
         102,
         2,
         "2024-01-12"
        ],
        [
         1003,
         1,
         103,
         3,
         "2024-02-05"
        ],
        [
         1004,
         3,
         104,
         1,
         "2024-02-08"
        ],
        [
         1005,
         5,
         105,
         5,
         "2024-03-01"
        ],
        [
         1006,
         6,
         106,
         2,
         "2024-03-15"
        ],
        [
         1007,
         7,
         101,
         1,
         "2024-03-20"
        ]
       ],
       "datasetInfos": [],
       "dbfsResultPath": null,
       "isJsonSchema": true,
       "metadata": {},
       "overflow": false,
       "plotOptions": {
        "customPlotOptions": {},
        "displayType": "table",
        "pivotAggregation": null,
        "pivotColumns": null,
        "xColumns": null,
        "yColumns": null
       },
       "removedWidgets": [],
       "schema": [
        {
         "metadata": "{}",
         "name": "order_id",
         "type": "\"integer\""
        },
        {
         "metadata": "{}",
         "name": "customer_id",
         "type": "\"integer\""
        },
        {
         "metadata": "{}",
         "name": "product_id",
         "type": "\"integer\""
        },
        {
         "metadata": "{}",
         "name": "quantity",
         "type": "\"integer\""
        },
        {
         "metadata": "{\"__detected_date_formats\": \"yyyy-M-d\"}",
         "name": "order_date",
         "type": "\"date\""
        }
       ],
       "type": "table"
      }
     },
     "output_type": "display_data"
    }
   ],
   "source": [
    "# Step 2: Import Functions & Load CSV Files\n",
    "# Import common Spark functions like col, sum, avg, etc.\n",
    "from pyspark.sql.functions import *\n",
    "\n",
    "# Load customer data from DBFS\n",
    "customers_df = spark.read.csv(\"/FileStore/tables/customers.csv\", header=True, inferSchema=True)\n",
    "\n",
    "# Load product data from DBFS\n",
    "products_df  = spark.read.csv(\"/FileStore/tables/products.csv\", header=True, inferSchema=True)\n",
    "\n",
    "# Load orders data from DBFS\n",
    "orders_df    = spark.read.csv(\"/FileStore/tables/orders.csv\", header=True, inferSchema=True)\n",
    "\n",
    "# Display all three DataFrames\n",
    "display(customers_df)\n",
    "display(products_df)\n",
    "display(orders_df)\n"
   ]
  },
  {
   "cell_type": "markdown",
   "metadata": {
    "application/vnd.databricks.v1+cell": {
     "cellMetadata": {},
     "inputWidgets": {},
     "nuid": "87574608-1f41-4810-8e92-1dd666ea3485",
     "showTitle": false,
     "tableResultSettingsMap": {},
     "title": ""
    }
   },
   "source": [
    "# Step 3: Data Transformations\n",
    "\n",
    "In this step, we perform several transformations on the orders data:  \n",
    "\n",
    "- Join orders with products to include product details like price.  \n",
    "- Add a `total_price` column calculated as `quantity * price`.  \n",
    "- Filter orders where `total_price` is greater than 40,000.  \n",
    "- Extract the month from the `order_date` column.  \n",
    "- Sort orders by `total_price` in descending order.  \n",
    "- Display the sorted orders to review the results.\n"
   ]
  },
  {
   "cell_type": "code",
   "execution_count": 0,
   "metadata": {
    "application/vnd.databricks.v1+cell": {
     "cellMetadata": {
      "byteLimit": 2048000,
      "rowLimit": 10000
     },
     "inputWidgets": {},
     "nuid": "b36e5791-8566-43b4-9c55-1acd03b2223b",
     "showTitle": false,
     "tableResultSettingsMap": {},
     "title": ""
    }
   },
   "outputs": [
    {
     "output_type": "display_data",
     "data": {
      "text/html": [
       "<style scoped>\n",
       "  .table-result-container {\n",
       "    max-height: 300px;\n",
       "    overflow: auto;\n",
       "  }\n",
       "  table, th, td {\n",
       "    border: 1px solid black;\n",
       "    border-collapse: collapse;\n",
       "  }\n",
       "  th, td {\n",
       "    padding: 5px;\n",
       "  }\n",
       "  th {\n",
       "    text-align: left;\n",
       "  }\n",
       "</style><div class='table-result-container'><table class='table-result'><thead style='background-color: white'><tr><th>product_id</th><th>order_id</th><th>customer_id</th><th>quantity</th><th>order_date</th><th>product_name</th><th>category</th><th>price</th><th>total_price</th></tr></thead><tbody><tr><td>101</td><td>1007</td><td>7</td><td>1</td><td>2024-03-20</td><td>Laptop</td><td>Electronics</td><td>55000</td><td>55000</td></tr><tr><td>101</td><td>1001</td><td>1</td><td>1</td><td>2024-01-10</td><td>Laptop</td><td>Electronics</td><td>55000</td><td>55000</td></tr><tr><td>102</td><td>1002</td><td>2</td><td>2</td><td>2024-01-12</td><td>Mobile</td><td>Electronics</td><td>25000</td><td>50000</td></tr><tr><td>103</td><td>1003</td><td>1</td><td>3</td><td>2024-02-05</td><td>Headphones</td><td>Electronics</td><td>3000</td><td>9000</td></tr><tr><td>104</td><td>1004</td><td>3</td><td>1</td><td>2024-02-08</td><td>Chair</td><td>Furniture</td><td>5000</td><td>5000</td></tr><tr><td>106</td><td>1006</td><td>6</td><td>2</td><td>2024-03-15</td><td>Shoes</td><td>Fashion</td><td>2500</td><td>5000</td></tr><tr><td>105</td><td>1005</td><td>5</td><td>5</td><td>2024-03-01</td><td>Book</td><td>Stationery</td><td>700</td><td>3500</td></tr></tbody></table></div>"
      ]
     },
     "metadata": {
      "application/vnd.databricks.v1+output": {
       "addedWidgets": {},
       "aggData": [],
       "aggError": "",
       "aggOverflow": false,
       "aggSchema": [],
       "aggSeriesLimitReached": false,
       "aggType": "",
       "arguments": {},
       "columnCustomDisplayInfos": {},
       "data": [
        [
         101,
         1007,
         7,
         1,
         "2024-03-20",
         "Laptop",
         "Electronics",
         55000,
         55000
        ],
        [
         101,
         1001,
         1,
         1,
         "2024-01-10",
         "Laptop",
         "Electronics",
         55000,
         55000
        ],
        [
         102,
         1002,
         2,
         2,
         "2024-01-12",
         "Mobile",
         "Electronics",
         25000,
         50000
        ],
        [
         103,
         1003,
         1,
         3,
         "2024-02-05",
         "Headphones",
         "Electronics",
         3000,
         9000
        ],
        [
         104,
         1004,
         3,
         1,
         "2024-02-08",
         "Chair",
         "Furniture",
         5000,
         5000
        ],
        [
         106,
         1006,
         6,
         2,
         "2024-03-15",
         "Shoes",
         "Fashion",
         2500,
         5000
        ],
        [
         105,
         1005,
         5,
         5,
         "2024-03-01",
         "Book",
         "Stationery",
         700,
         3500
        ]
       ],
       "datasetInfos": [],
       "dbfsResultPath": null,
       "isJsonSchema": true,
       "metadata": {},
       "overflow": false,
       "plotOptions": {
        "customPlotOptions": {},
        "displayType": "table",
        "pivotAggregation": null,
        "pivotColumns": null,
        "xColumns": null,
        "yColumns": null
       },
       "removedWidgets": [],
       "schema": [
        {
         "metadata": "{}",
         "name": "product_id",
         "type": "\"integer\""
        },
        {
         "metadata": "{}",
         "name": "order_id",
         "type": "\"integer\""
        },
        {
         "metadata": "{}",
         "name": "customer_id",
         "type": "\"integer\""
        },
        {
         "metadata": "{}",
         "name": "quantity",
         "type": "\"integer\""
        },
        {
         "metadata": "{\"__detected_date_formats\": \"yyyy-M-d\"}",
         "name": "order_date",
         "type": "\"date\""
        },
        {
         "metadata": "{}",
         "name": "product_name",
         "type": "\"string\""
        },
        {
         "metadata": "{}",
         "name": "category",
         "type": "\"string\""
        },
        {
         "metadata": "{}",
         "name": "price",
         "type": "\"integer\""
        },
        {
         "metadata": "{}",
         "name": "total_price",
         "type": "\"integer\""
        }
       ],
       "type": "table"
      }
     },
     "output_type": "display_data"
    }
   ],
   "source": [
    "# Step 3: Data Transformations\n",
    "\n",
    "# Join orders with products to include product details like price\n",
    "joined_df = orders_df.join(products_df, \"product_id\")\n",
    "\n",
    "# Add total_price column = quantity * price\n",
    "orders_total_df = joined_df.withColumn(\"total_price\", col(\"quantity\") * col(\"price\"))\n",
    "\n",
    "# Filter orders where total price > 40,000\n",
    "high_value_orders = orders_total_df.filter(col(\"total_price\") > 40000)\n",
    "\n",
    "# Extract month from order_date column\n",
    "orders_with_month = orders_total_df.withColumn(\"month\", month(col(\"order_date\")))\n",
    "\n",
    "# Sort orders by total_price in descending order\n",
    "sorted_orders = orders_total_df.orderBy(col(\"total_price\").desc())\n",
    "\n",
    "# Display the sorted orders\n",
    "display(sorted_orders)\n"
   ]
  },
  {
   "cell_type": "markdown",
   "metadata": {
    "application/vnd.databricks.v1+cell": {
     "cellMetadata": {},
     "inputWidgets": {},
     "nuid": "f3f07627-6338-4174-9c75-aeb9720b1b16",
     "showTitle": false,
     "tableResultSettingsMap": {},
     "title": ""
    }
   },
   "source": [
    "# Step 4: Aggregations\n",
    "\n",
    "In this step, we calculate various summary statistics from our data:  \n",
    "\n",
    "1. **Total revenue per city:** Join orders with customers and sum `total_price` by city.  \n",
    "2. **Average age of customers per city:** Calculate the average age grouped by city.  \n",
    "3. **Total revenue per product category:** Sum `total_price` grouped by product category.  \n",
    "4. **Top 3 customers by total spending:** Identify the three customers with the highest total spending.  \n",
    "\n",
    "All results are displayed to review the insights.\n"
   ]
  },
  {
   "cell_type": "code",
   "execution_count": 0,
   "metadata": {
    "application/vnd.databricks.v1+cell": {
     "cellMetadata": {
      "byteLimit": 2048000,
      "rowLimit": 10000
     },
     "inputWidgets": {},
     "nuid": "379d5549-7ae9-467a-8761-59ec20a19282",
     "showTitle": false,
     "tableResultSettingsMap": {},
     "title": ""
    }
   },
   "outputs": [
    {
     "output_type": "display_data",
     "data": {
      "text/html": [
       "<style scoped>\n",
       "  .table-result-container {\n",
       "    max-height: 300px;\n",
       "    overflow: auto;\n",
       "  }\n",
       "  table, th, td {\n",
       "    border: 1px solid black;\n",
       "    border-collapse: collapse;\n",
       "  }\n",
       "  th, td {\n",
       "    padding: 5px;\n",
       "  }\n",
       "  th {\n",
       "    text-align: left;\n",
       "  }\n",
       "</style><div class='table-result-container'><table class='table-result'><thead style='background-color: white'><tr><th>city</th><th>total_revenue</th></tr></thead><tbody><tr><td>Bangalore</td><td>64000</td></tr><tr><td>Delhi</td><td>55000</td></tr><tr><td>Hyderabad</td><td>5000</td></tr><tr><td>Mumbai</td><td>3500</td></tr></tbody></table></div>"
      ]
     },
     "metadata": {
      "application/vnd.databricks.v1+output": {
       "addedWidgets": {},
       "aggData": [],
       "aggError": "",
       "aggOverflow": false,
       "aggSchema": [],
       "aggSeriesLimitReached": false,
       "aggType": "",
       "arguments": {},
       "columnCustomDisplayInfos": {},
       "data": [
        [
         "Bangalore",
         64000
        ],
        [
         "Delhi",
         55000
        ],
        [
         "Hyderabad",
         5000
        ],
        [
         "Mumbai",
         3500
        ]
       ],
       "datasetInfos": [],
       "dbfsResultPath": null,
       "isJsonSchema": true,
       "metadata": {},
       "overflow": false,
       "plotOptions": {
        "customPlotOptions": {},
        "displayType": "table",
        "pivotAggregation": null,
        "pivotColumns": null,
        "xColumns": null,
        "yColumns": null
       },
       "removedWidgets": [],
       "schema": [
        {
         "metadata": "{}",
         "name": "city",
         "type": "\"string\""
        },
        {
         "metadata": "{}",
         "name": "total_revenue",
         "type": "\"long\""
        }
       ],
       "type": "table"
      }
     },
     "output_type": "display_data"
    },
    {
     "output_type": "display_data",
     "data": {
      "text/html": [
       "<style scoped>\n",
       "  .table-result-container {\n",
       "    max-height: 300px;\n",
       "    overflow: auto;\n",
       "  }\n",
       "  table, th, td {\n",
       "    border: 1px solid black;\n",
       "    border-collapse: collapse;\n",
       "  }\n",
       "  th, td {\n",
       "    padding: 5px;\n",
       "  }\n",
       "  th {\n",
       "    text-align: left;\n",
       "  }\n",
       "</style><div class='table-result-container'><table class='table-result'><thead style='background-color: white'><tr><th>city</th><th>average_age</th></tr></thead><tbody><tr><td>Bangalore</td><td>28.0</td></tr><tr><td>Chennai</td><td>35.0</td></tr><tr><td>Delhi</td><td>30.5</td></tr><tr><td>Mumbai</td><td>30.0</td></tr><tr><td>Hyderabad</td><td>25.0</td></tr></tbody></table></div>"
      ]
     },
     "metadata": {
      "application/vnd.databricks.v1+output": {
       "addedWidgets": {},
       "aggData": [],
       "aggError": "",
       "aggOverflow": false,
       "aggSchema": [],
       "aggSeriesLimitReached": false,
       "aggType": "",
       "arguments": {},
       "columnCustomDisplayInfos": {},
       "data": [
        [
         "Bangalore",
         28.0
        ],
        [
         "Chennai",
         35.0
        ],
        [
         "Delhi",
         30.5
        ],
        [
         "Mumbai",
         30.0
        ],
        [
         "Hyderabad",
         25.0
        ]
       ],
       "datasetInfos": [],
       "dbfsResultPath": null,
       "isJsonSchema": true,
       "metadata": {},
       "overflow": false,
       "plotOptions": {
        "customPlotOptions": {},
        "displayType": "table",
        "pivotAggregation": null,
        "pivotColumns": null,
        "xColumns": null,
        "yColumns": null
       },
       "removedWidgets": [],
       "schema": [
        {
         "metadata": "{}",
         "name": "city",
         "type": "\"string\""
        },
        {
         "metadata": "{}",
         "name": "average_age",
         "type": "\"double\""
        }
       ],
       "type": "table"
      }
     },
     "output_type": "display_data"
    },
    {
     "output_type": "display_data",
     "data": {
      "text/html": [
       "<style scoped>\n",
       "  .table-result-container {\n",
       "    max-height: 300px;\n",
       "    overflow: auto;\n",
       "  }\n",
       "  table, th, td {\n",
       "    border: 1px solid black;\n",
       "    border-collapse: collapse;\n",
       "  }\n",
       "  th, td {\n",
       "    padding: 5px;\n",
       "  }\n",
       "  th {\n",
       "    text-align: left;\n",
       "  }\n",
       "</style><div class='table-result-container'><table class='table-result'><thead style='background-color: white'><tr><th>category</th><th>total_revenue</th></tr></thead><tbody><tr><td>Electronics</td><td>169000</td></tr><tr><td>Furniture</td><td>5000</td></tr><tr><td>Fashion</td><td>5000</td></tr><tr><td>Stationery</td><td>3500</td></tr></tbody></table></div>"
      ]
     },
     "metadata": {
      "application/vnd.databricks.v1+output": {
       "addedWidgets": {},
       "aggData": [],
       "aggError": "",
       "aggOverflow": false,
       "aggSchema": [],
       "aggSeriesLimitReached": false,
       "aggType": "",
       "arguments": {},
       "columnCustomDisplayInfos": {},
       "data": [
        [
         "Electronics",
         169000
        ],
        [
         "Furniture",
         5000
        ],
        [
         "Fashion",
         5000
        ],
        [
         "Stationery",
         3500
        ]
       ],
       "datasetInfos": [],
       "dbfsResultPath": null,
       "isJsonSchema": true,
       "metadata": {},
       "overflow": false,
       "plotOptions": {
        "customPlotOptions": {},
        "displayType": "table",
        "pivotAggregation": null,
        "pivotColumns": null,
        "xColumns": null,
        "yColumns": null
       },
       "removedWidgets": [],
       "schema": [
        {
         "metadata": "{}",
         "name": "category",
         "type": "\"string\""
        },
        {
         "metadata": "{}",
         "name": "total_revenue",
         "type": "\"long\""
        }
       ],
       "type": "table"
      }
     },
     "output_type": "display_data"
    },
    {
     "output_type": "display_data",
     "data": {
      "text/html": [
       "<style scoped>\n",
       "  .table-result-container {\n",
       "    max-height: 300px;\n",
       "    overflow: auto;\n",
       "  }\n",
       "  table, th, td {\n",
       "    border: 1px solid black;\n",
       "    border-collapse: collapse;\n",
       "  }\n",
       "  th, td {\n",
       "    padding: 5px;\n",
       "  }\n",
       "  th {\n",
       "    text-align: left;\n",
       "  }\n",
       "</style><div class='table-result-container'><table class='table-result'><thead style='background-color: white'><tr><th>customer_id</th><th>name</th><th>total_spent</th></tr></thead><tbody><tr><td>1</td><td>Rahul Sharma</td><td>64000</td></tr><tr><td>2</td><td>Priya Singh</td><td>50000</td></tr><tr><td>6</td><td>Divya Nair</td><td>5000</td></tr></tbody></table></div>"
      ]
     },
     "metadata": {
      "application/vnd.databricks.v1+output": {
       "addedWidgets": {},
       "aggData": [],
       "aggError": "",
       "aggOverflow": false,
       "aggSchema": [],
       "aggSeriesLimitReached": false,
       "aggType": "",
       "arguments": {},
       "columnCustomDisplayInfos": {},
       "data": [
        [
         1,
         "Rahul Sharma",
         64000
        ],
        [
         2,
         "Priya Singh",
         50000
        ],
        [
         6,
         "Divya Nair",
         5000
        ]
       ],
       "datasetInfos": [],
       "dbfsResultPath": null,
       "isJsonSchema": true,
       "metadata": {},
       "overflow": false,
       "plotOptions": {
        "customPlotOptions": {},
        "displayType": "table",
        "pivotAggregation": null,
        "pivotColumns": null,
        "xColumns": null,
        "yColumns": null
       },
       "removedWidgets": [],
       "schema": [
        {
         "metadata": "{}",
         "name": "customer_id",
         "type": "\"integer\""
        },
        {
         "metadata": "{}",
         "name": "name",
         "type": "\"string\""
        },
        {
         "metadata": "{}",
         "name": "total_spent",
         "type": "\"long\""
        }
       ],
       "type": "table"
      }
     },
     "output_type": "display_data"
    }
   ],
   "source": [
    "# Step 4: Aggregations\n",
    "\n",
    "# Find total revenue per city (join orders + customers)\n",
    "revenue_city = orders_total_df.join(customers_df, \"customer_id\") \\\n",
    "    .groupBy(\"city\") \\\n",
    "    .agg(round(sum(\"total_price\"), 2).alias(\"total_revenue\")) \\\n",
    "    .orderBy(col(\"total_revenue\").desc())\n",
    "display(revenue_city)\n",
    "\n",
    "# Find average age of customers per city\n",
    "avg_age_city = customers_df.groupBy(\"city\").agg(avg(\"age\").alias(\"average_age\"))\n",
    "display(avg_age_city)\n",
    "\n",
    "# Find total revenue per product category\n",
    "revenue_category = orders_total_df.groupBy(\"category\") \\\n",
    "    .agg(sum(\"total_price\").alias(\"total_revenue\")) \\\n",
    "    .orderBy(col(\"total_revenue\").desc())\n",
    "display(revenue_category)\n",
    "\n",
    "# Find top 3 customers by total spending\n",
    "top_customers = orders_total_df.join(customers_df, \"customer_id\") \\\n",
    "    .groupBy(\"customer_id\", \"name\") \\\n",
    "    .agg(sum(\"total_price\").alias(\"total_spent\")) \\\n",
    "    .orderBy(col(\"total_spent\").desc()) \\\n",
    "    .limit(3)\n",
    "display(top_customers)\n"
   ]
  },
  {
   "cell_type": "markdown",
   "metadata": {
    "application/vnd.databricks.v1+cell": {
     "cellMetadata": {},
     "inputWidgets": {},
     "nuid": "e8f70048-706c-45c1-8131-55adae0ab14f",
     "showTitle": false,
     "tableResultSettingsMap": {},
     "title": ""
    }
   },
   "source": [
    "# Step 5: Joins\n",
    "\n",
    "In this step, we perform different types of joins to analyze relationships between datasets:  \n",
    "\n",
    "- **Inner Join:** Orders with customers (only matching records).  \n",
    "- **Left Join:** Customers with orders (all customers shown, even if no orders).  \n",
    "- **Right Join:** Orders with products (all products shown, even if not ordered).  \n",
    "- **Left Anti Join:** Identify customers who have not placed any orders.  \n",
    "- **Left Anti Join:** Identify products that were never ordered.  \n",
    "\n",
    "All results are displayed to understand these relationships.\n"
   ]
  },
  {
   "cell_type": "code",
   "execution_count": 0,
   "metadata": {
    "application/vnd.databricks.v1+cell": {
     "cellMetadata": {
      "byteLimit": 2048000,
      "rowLimit": 10000
     },
     "inputWidgets": {},
     "nuid": "f3aca0b0-d051-4d19-befe-6bb11cec756c",
     "showTitle": false,
     "tableResultSettingsMap": {},
     "title": ""
    }
   },
   "outputs": [
    {
     "output_type": "display_data",
     "data": {
      "text/html": [
       "<style scoped>\n",
       "  .table-result-container {\n",
       "    max-height: 300px;\n",
       "    overflow: auto;\n",
       "  }\n",
       "  table, th, td {\n",
       "    border: 1px solid black;\n",
       "    border-collapse: collapse;\n",
       "  }\n",
       "  th, td {\n",
       "    padding: 5px;\n",
       "  }\n",
       "  th {\n",
       "    text-align: left;\n",
       "  }\n",
       "</style><div class='table-result-container'><table class='table-result'><thead style='background-color: white'><tr><th>customer_id</th><th>order_id</th><th>product_id</th><th>quantity</th><th>order_date</th><th>name</th><th>city</th><th>age</th></tr></thead><tbody><tr><td>1</td><td>1001</td><td>101</td><td>1</td><td>2024-01-10</td><td>Rahul Sharma</td><td>Bangalore</td><td>28</td></tr><tr><td>2</td><td>1002</td><td>102</td><td>2</td><td>2024-01-12</td><td>Priya Singh</td><td>Delhi</td><td>32</td></tr><tr><td>1</td><td>1003</td><td>103</td><td>3</td><td>2024-02-05</td><td>Rahul Sharma</td><td>Bangalore</td><td>28</td></tr><tr><td>3</td><td>1004</td><td>104</td><td>1</td><td>2024-02-08</td><td>Aman Kumar</td><td>Hyderabad</td><td>25</td></tr><tr><td>5</td><td>1005</td><td>105</td><td>5</td><td>2024-03-01</td><td>Arjun Mehta</td><td>Mumbai</td><td>30</td></tr><tr><td>6</td><td>1006</td><td>106</td><td>2</td><td>2024-03-15</td><td>Divya Nair</td><td>Delhi</td><td>29</td></tr></tbody></table></div>"
      ]
     },
     "metadata": {
      "application/vnd.databricks.v1+output": {
       "addedWidgets": {},
       "aggData": [],
       "aggError": "",
       "aggOverflow": false,
       "aggSchema": [],
       "aggSeriesLimitReached": false,
       "aggType": "",
       "arguments": {},
       "columnCustomDisplayInfos": {},
       "data": [
        [
         1,
         1001,
         101,
         1,
         "2024-01-10",
         "Rahul Sharma",
         "Bangalore",
         28
        ],
        [
         2,
         1002,
         102,
         2,
         "2024-01-12",
         "Priya Singh",
         "Delhi",
         32
        ],
        [
         1,
         1003,
         103,
         3,
         "2024-02-05",
         "Rahul Sharma",
         "Bangalore",
         28
        ],
        [
         3,
         1004,
         104,
         1,
         "2024-02-08",
         "Aman Kumar",
         "Hyderabad",
         25
        ],
        [
         5,
         1005,
         105,
         5,
         "2024-03-01",
         "Arjun Mehta",
         "Mumbai",
         30
        ],
        [
         6,
         1006,
         106,
         2,
         "2024-03-15",
         "Divya Nair",
         "Delhi",
         29
        ]
       ],
       "datasetInfos": [],
       "dbfsResultPath": null,
       "isJsonSchema": true,
       "metadata": {},
       "overflow": false,
       "plotOptions": {
        "customPlotOptions": {},
        "displayType": "table",
        "pivotAggregation": null,
        "pivotColumns": null,
        "xColumns": null,
        "yColumns": null
       },
       "removedWidgets": [],
       "schema": [
        {
         "metadata": "{}",
         "name": "customer_id",
         "type": "\"integer\""
        },
        {
         "metadata": "{}",
         "name": "order_id",
         "type": "\"integer\""
        },
        {
         "metadata": "{}",
         "name": "product_id",
         "type": "\"integer\""
        },
        {
         "metadata": "{}",
         "name": "quantity",
         "type": "\"integer\""
        },
        {
         "metadata": "{\"__detected_date_formats\": \"yyyy-M-d\"}",
         "name": "order_date",
         "type": "\"date\""
        },
        {
         "metadata": "{}",
         "name": "name",
         "type": "\"string\""
        },
        {
         "metadata": "{}",
         "name": "city",
         "type": "\"string\""
        },
        {
         "metadata": "{}",
         "name": "age",
         "type": "\"integer\""
        }
       ],
       "type": "table"
      }
     },
     "output_type": "display_data"
    },
    {
     "output_type": "display_data",
     "data": {
      "text/html": [
       "<style scoped>\n",
       "  .table-result-container {\n",
       "    max-height: 300px;\n",
       "    overflow: auto;\n",
       "  }\n",
       "  table, th, td {\n",
       "    border: 1px solid black;\n",
       "    border-collapse: collapse;\n",
       "  }\n",
       "  th, td {\n",
       "    padding: 5px;\n",
       "  }\n",
       "  th {\n",
       "    text-align: left;\n",
       "  }\n",
       "</style><div class='table-result-container'><table class='table-result'><thead style='background-color: white'><tr><th>customer_id</th><th>name</th><th>city</th><th>age</th><th>order_id</th><th>product_id</th><th>quantity</th><th>order_date</th></tr></thead><tbody><tr><td>1</td><td>Rahul Sharma</td><td>Bangalore</td><td>28</td><td>1003</td><td>103</td><td>3</td><td>2024-02-05</td></tr><tr><td>4</td><td>Sneha Reddy</td><td>Chennai</td><td>35</td><td>null</td><td>null</td><td>null</td><td>null</td></tr><tr><td>6</td><td>Divya Nair</td><td>Delhi</td><td>29</td><td>1006</td><td>106</td><td>2</td><td>2024-03-15</td></tr><tr><td>3</td><td>Aman Kumar</td><td>Hyderabad</td><td>25</td><td>1004</td><td>104</td><td>1</td><td>2024-02-08</td></tr><tr><td>2</td><td>Priya Singh</td><td>Delhi</td><td>32</td><td>1002</td><td>102</td><td>2</td><td>2024-01-12</td></tr><tr><td>5</td><td>Arjun Mehta</td><td>Mumbai</td><td>30</td><td>1005</td><td>105</td><td>5</td><td>2024-03-01</td></tr><tr><td>1</td><td>Rahul Sharma</td><td>Bangalore</td><td>28</td><td>1001</td><td>101</td><td>1</td><td>2024-01-10</td></tr></tbody></table></div>"
      ]
     },
     "metadata": {
      "application/vnd.databricks.v1+output": {
       "addedWidgets": {},
       "aggData": [],
       "aggError": "",
       "aggOverflow": false,
       "aggSchema": [],
       "aggSeriesLimitReached": false,
       "aggType": "",
       "arguments": {},
       "columnCustomDisplayInfos": {},
       "data": [
        [
         1,
         "Rahul Sharma",
         "Bangalore",
         28,
         1003,
         103,
         3,
         "2024-02-05"
        ],
        [
         4,
         "Sneha Reddy",
         "Chennai",
         35,
         null,
         null,
         null,
         null
        ],
        [
         6,
         "Divya Nair",
         "Delhi",
         29,
         1006,
         106,
         2,
         "2024-03-15"
        ],
        [
         3,
         "Aman Kumar",
         "Hyderabad",
         25,
         1004,
         104,
         1,
         "2024-02-08"
        ],
        [
         2,
         "Priya Singh",
         "Delhi",
         32,
         1002,
         102,
         2,
         "2024-01-12"
        ],
        [
         5,
         "Arjun Mehta",
         "Mumbai",
         30,
         1005,
         105,
         5,
         "2024-03-01"
        ],
        [
         1,
         "Rahul Sharma",
         "Bangalore",
         28,
         1001,
         101,
         1,
         "2024-01-10"
        ]
       ],
       "datasetInfos": [],
       "dbfsResultPath": null,
       "isJsonSchema": true,
       "metadata": {},
       "overflow": false,
       "plotOptions": {
        "customPlotOptions": {},
        "displayType": "table",
        "pivotAggregation": null,
        "pivotColumns": null,
        "xColumns": null,
        "yColumns": null
       },
       "removedWidgets": [],
       "schema": [
        {
         "metadata": "{}",
         "name": "customer_id",
         "type": "\"integer\""
        },
        {
         "metadata": "{}",
         "name": "name",
         "type": "\"string\""
        },
        {
         "metadata": "{}",
         "name": "city",
         "type": "\"string\""
        },
        {
         "metadata": "{}",
         "name": "age",
         "type": "\"integer\""
        },
        {
         "metadata": "{}",
         "name": "order_id",
         "type": "\"integer\""
        },
        {
         "metadata": "{}",
         "name": "product_id",
         "type": "\"integer\""
        },
        {
         "metadata": "{}",
         "name": "quantity",
         "type": "\"integer\""
        },
        {
         "metadata": "{\"__detected_date_formats\": \"yyyy-M-d\"}",
         "name": "order_date",
         "type": "\"date\""
        }
       ],
       "type": "table"
      }
     },
     "output_type": "display_data"
    },
    {
     "output_type": "display_data",
     "data": {
      "text/html": [
       "<style scoped>\n",
       "  .table-result-container {\n",
       "    max-height: 300px;\n",
       "    overflow: auto;\n",
       "  }\n",
       "  table, th, td {\n",
       "    border: 1px solid black;\n",
       "    border-collapse: collapse;\n",
       "  }\n",
       "  th, td {\n",
       "    padding: 5px;\n",
       "  }\n",
       "  th {\n",
       "    text-align: left;\n",
       "  }\n",
       "</style><div class='table-result-container'><table class='table-result'><thead style='background-color: white'><tr><th>product_id</th><th>order_id</th><th>customer_id</th><th>quantity</th><th>order_date</th><th>product_name</th><th>category</th><th>price</th></tr></thead><tbody><tr><td>102</td><td>1002</td><td>2</td><td>2</td><td>2024-01-12</td><td>Mobile</td><td>Electronics</td><td>25000</td></tr><tr><td>101</td><td>1007</td><td>7</td><td>1</td><td>2024-03-20</td><td>Laptop</td><td>Electronics</td><td>55000</td></tr><tr><td>104</td><td>1004</td><td>3</td><td>1</td><td>2024-02-08</td><td>Chair</td><td>Furniture</td><td>5000</td></tr><tr><td>103</td><td>1003</td><td>1</td><td>3</td><td>2024-02-05</td><td>Headphones</td><td>Electronics</td><td>3000</td></tr><tr><td>105</td><td>1005</td><td>5</td><td>5</td><td>2024-03-01</td><td>Book</td><td>Stationery</td><td>700</td></tr><tr><td>106</td><td>1006</td><td>6</td><td>2</td><td>2024-03-15</td><td>Shoes</td><td>Fashion</td><td>2500</td></tr><tr><td>101</td><td>1001</td><td>1</td><td>1</td><td>2024-01-10</td><td>Laptop</td><td>Electronics</td><td>55000</td></tr></tbody></table></div>"
      ]
     },
     "metadata": {
      "application/vnd.databricks.v1+output": {
       "addedWidgets": {},
       "aggData": [],
       "aggError": "",
       "aggOverflow": false,
       "aggSchema": [],
       "aggSeriesLimitReached": false,
       "aggType": "",
       "arguments": {},
       "columnCustomDisplayInfos": {},
       "data": [
        [
         102,
         1002,
         2,
         2,
         "2024-01-12",
         "Mobile",
         "Electronics",
         25000
        ],
        [
         101,
         1007,
         7,
         1,
         "2024-03-20",
         "Laptop",
         "Electronics",
         55000
        ],
        [
         104,
         1004,
         3,
         1,
         "2024-02-08",
         "Chair",
         "Furniture",
         5000
        ],
        [
         103,
         1003,
         1,
         3,
         "2024-02-05",
         "Headphones",
         "Electronics",
         3000
        ],
        [
         105,
         1005,
         5,
         5,
         "2024-03-01",
         "Book",
         "Stationery",
         700
        ],
        [
         106,
         1006,
         6,
         2,
         "2024-03-15",
         "Shoes",
         "Fashion",
         2500
        ],
        [
         101,
         1001,
         1,
         1,
         "2024-01-10",
         "Laptop",
         "Electronics",
         55000
        ]
       ],
       "datasetInfos": [],
       "dbfsResultPath": null,
       "isJsonSchema": true,
       "metadata": {},
       "overflow": false,
       "plotOptions": {
        "customPlotOptions": {},
        "displayType": "table",
        "pivotAggregation": null,
        "pivotColumns": null,
        "xColumns": null,
        "yColumns": null
       },
       "removedWidgets": [],
       "schema": [
        {
         "metadata": "{}",
         "name": "product_id",
         "type": "\"integer\""
        },
        {
         "metadata": "{}",
         "name": "order_id",
         "type": "\"integer\""
        },
        {
         "metadata": "{}",
         "name": "customer_id",
         "type": "\"integer\""
        },
        {
         "metadata": "{}",
         "name": "quantity",
         "type": "\"integer\""
        },
        {
         "metadata": "{\"__detected_date_formats\": \"yyyy-M-d\"}",
         "name": "order_date",
         "type": "\"date\""
        },
        {
         "metadata": "{}",
         "name": "product_name",
         "type": "\"string\""
        },
        {
         "metadata": "{}",
         "name": "category",
         "type": "\"string\""
        },
        {
         "metadata": "{}",
         "name": "price",
         "type": "\"integer\""
        }
       ],
       "type": "table"
      }
     },
     "output_type": "display_data"
    },
    {
     "output_type": "display_data",
     "data": {
      "text/html": [
       "<style scoped>\n",
       "  .table-result-container {\n",
       "    max-height: 300px;\n",
       "    overflow: auto;\n",
       "  }\n",
       "  table, th, td {\n",
       "    border: 1px solid black;\n",
       "    border-collapse: collapse;\n",
       "  }\n",
       "  th, td {\n",
       "    padding: 5px;\n",
       "  }\n",
       "  th {\n",
       "    text-align: left;\n",
       "  }\n",
       "</style><div class='table-result-container'><table class='table-result'><thead style='background-color: white'><tr><th>customer_id</th><th>name</th><th>city</th><th>age</th></tr></thead><tbody><tr><td>4</td><td>Sneha Reddy</td><td>Chennai</td><td>35</td></tr></tbody></table></div>"
      ]
     },
     "metadata": {
      "application/vnd.databricks.v1+output": {
       "addedWidgets": {},
       "aggData": [],
       "aggError": "",
       "aggOverflow": false,
       "aggSchema": [],
       "aggSeriesLimitReached": false,
       "aggType": "",
       "arguments": {},
       "columnCustomDisplayInfos": {},
       "data": [
        [
         4,
         "Sneha Reddy",
         "Chennai",
         35
        ]
       ],
       "datasetInfos": [],
       "dbfsResultPath": null,
       "isJsonSchema": true,
       "metadata": {},
       "overflow": false,
       "plotOptions": {
        "customPlotOptions": {},
        "displayType": "table",
        "pivotAggregation": null,
        "pivotColumns": null,
        "xColumns": null,
        "yColumns": null
       },
       "removedWidgets": [],
       "schema": [
        {
         "metadata": "{}",
         "name": "customer_id",
         "type": "\"integer\""
        },
        {
         "metadata": "{}",
         "name": "name",
         "type": "\"string\""
        },
        {
         "metadata": "{}",
         "name": "city",
         "type": "\"string\""
        },
        {
         "metadata": "{}",
         "name": "age",
         "type": "\"integer\""
        }
       ],
       "type": "table"
      }
     },
     "output_type": "display_data"
    },
    {
     "output_type": "display_data",
     "data": {
      "text/html": [
       "<style scoped>\n",
       "  .table-result-container {\n",
       "    max-height: 300px;\n",
       "    overflow: auto;\n",
       "  }\n",
       "  table, th, td {\n",
       "    border: 1px solid black;\n",
       "    border-collapse: collapse;\n",
       "  }\n",
       "  th, td {\n",
       "    padding: 5px;\n",
       "  }\n",
       "  th {\n",
       "    text-align: left;\n",
       "  }\n",
       "</style><div class='table-result-container'><table class='table-result'><thead style='background-color: white'><tr><th>product_id</th><th>product_name</th><th>category</th><th>price</th></tr></thead><tbody></tbody></table></div>"
      ]
     },
     "metadata": {
      "application/vnd.databricks.v1+output": {
       "addedWidgets": {},
       "aggData": [],
       "aggError": "",
       "aggOverflow": false,
       "aggSchema": [],
       "aggSeriesLimitReached": false,
       "aggType": "",
       "arguments": {},
       "columnCustomDisplayInfos": {},
       "data": [],
       "datasetInfos": [],
       "dbfsResultPath": null,
       "isJsonSchema": true,
       "metadata": {},
       "overflow": false,
       "plotOptions": {
        "customPlotOptions": {},
        "displayType": "table",
        "pivotAggregation": null,
        "pivotColumns": null,
        "xColumns": null,
        "yColumns": null
       },
       "removedWidgets": [],
       "schema": [
        {
         "metadata": "{}",
         "name": "product_id",
         "type": "\"integer\""
        },
        {
         "metadata": "{}",
         "name": "product_name",
         "type": "\"string\""
        },
        {
         "metadata": "{}",
         "name": "category",
         "type": "\"string\""
        },
        {
         "metadata": "{}",
         "name": "price",
         "type": "\"integer\""
        }
       ],
       "type": "table"
      }
     },
     "output_type": "display_data"
    }
   ],
   "source": [
    "# Step 5: Joins\n",
    "\n",
    "# Inner Join between orders and customers\n",
    "inner_join_df = orders_df.join(customers_df, \"customer_id\", \"inner\")\n",
    "display(inner_join_df)\n",
    "\n",
    "# Left Join between customers and orders (shows all customers even if no orders)\n",
    "left_join_df = customers_df.join(orders_df, \"customer_id\", \"left\")\n",
    "display(left_join_df)\n",
    "\n",
    "# Right Join between orders and products (shows all products even if not ordered)\n",
    "right_join_df = orders_df.join(products_df, \"product_id\", \"right\")\n",
    "display(right_join_df)\n",
    "\n",
    "# Identify customers with no orders (left_anti join)\n",
    "no_order_customers = customers_df.join(orders_df, \"customer_id\", \"left_anti\")\n",
    "display(no_order_customers)\n",
    "\n",
    "# Identify products that were never ordered\n",
    "never_ordered_products = products_df.join(orders_df, \"product_id\", \"left_anti\")\n",
    "display(never_ordered_products)\n"
   ]
  },
  {
   "cell_type": "markdown",
   "metadata": {
    "application/vnd.databricks.v1+cell": {
     "cellMetadata": {},
     "inputWidgets": {},
     "nuid": "fb8c1dfd-6cc7-4db4-8c76-da5a3cde92a4",
     "showTitle": false,
     "tableResultSettingsMap": {},
     "title": ""
    }
   },
   "source": [
    "# Step 6: SQL Queries using Temporary Views\n",
    "\n",
    "In this step, we create temporary SQL views from the DataFrames and run SQL queries:  \n",
    "\n",
    "1. **Top 2 cities by total revenue:** Find cities with the highest total revenue.  \n",
    "2. **Most popular category by revenue:** Identify the product category generating the most revenue.  \n",
    "3. **Customers who spent more than ₹50,000:** List customers whose total spending exceeds ₹50,000.  \n",
    "4. **Monthly sales trend:** Calculate total sales for each month to analyze trends over time.  \n",
    "\n",
    "All results are displayed for insights using SQL queries.\n"
   ]
  },
  {
   "cell_type": "code",
   "execution_count": 0,
   "metadata": {
    "application/vnd.databricks.v1+cell": {
     "cellMetadata": {
      "byteLimit": 2048000,
      "rowLimit": 10000
     },
     "inputWidgets": {},
     "nuid": "e420f5ff-8254-43f8-9c8c-cabca78c1946",
     "showTitle": false,
     "tableResultSettingsMap": {},
     "title": ""
    }
   },
   "outputs": [
    {
     "output_type": "display_data",
     "data": {
      "text/html": [
       "<style scoped>\n",
       "  .table-result-container {\n",
       "    max-height: 300px;\n",
       "    overflow: auto;\n",
       "  }\n",
       "  table, th, td {\n",
       "    border: 1px solid black;\n",
       "    border-collapse: collapse;\n",
       "  }\n",
       "  th, td {\n",
       "    padding: 5px;\n",
       "  }\n",
       "  th {\n",
       "    text-align: left;\n",
       "  }\n",
       "</style><div class='table-result-container'><table class='table-result'><thead style='background-color: white'><tr><th>city</th><th>total_revenue</th></tr></thead><tbody><tr><td>Bangalore</td><td>64000</td></tr><tr><td>Delhi</td><td>55000</td></tr></tbody></table></div>"
      ]
     },
     "metadata": {
      "application/vnd.databricks.v1+output": {
       "addedWidgets": {},
       "aggData": [],
       "aggError": "",
       "aggOverflow": false,
       "aggSchema": [],
       "aggSeriesLimitReached": false,
       "aggType": "",
       "arguments": {},
       "columnCustomDisplayInfos": {},
       "data": [
        [
         "Bangalore",
         64000
        ],
        [
         "Delhi",
         55000
        ]
       ],
       "datasetInfos": [],
       "dbfsResultPath": null,
       "isJsonSchema": true,
       "metadata": {},
       "overflow": false,
       "plotOptions": {
        "customPlotOptions": {},
        "displayType": "table",
        "pivotAggregation": null,
        "pivotColumns": null,
        "xColumns": null,
        "yColumns": null
       },
       "removedWidgets": [],
       "schema": [
        {
         "metadata": "{}",
         "name": "city",
         "type": "\"string\""
        },
        {
         "metadata": "{}",
         "name": "total_revenue",
         "type": "\"long\""
        }
       ],
       "type": "table"
      }
     },
     "output_type": "display_data"
    },
    {
     "output_type": "display_data",
     "data": {
      "text/html": [
       "<style scoped>\n",
       "  .table-result-container {\n",
       "    max-height: 300px;\n",
       "    overflow: auto;\n",
       "  }\n",
       "  table, th, td {\n",
       "    border: 1px solid black;\n",
       "    border-collapse: collapse;\n",
       "  }\n",
       "  th, td {\n",
       "    padding: 5px;\n",
       "  }\n",
       "  th {\n",
       "    text-align: left;\n",
       "  }\n",
       "</style><div class='table-result-container'><table class='table-result'><thead style='background-color: white'><tr><th>category</th><th>total_revenue</th></tr></thead><tbody><tr><td>Electronics</td><td>169000</td></tr></tbody></table></div>"
      ]
     },
     "metadata": {
      "application/vnd.databricks.v1+output": {
       "addedWidgets": {},
       "aggData": [],
       "aggError": "",
       "aggOverflow": false,
       "aggSchema": [],
       "aggSeriesLimitReached": false,
       "aggType": "",
       "arguments": {},
       "columnCustomDisplayInfos": {},
       "data": [
        [
         "Electronics",
         169000
        ]
       ],
       "datasetInfos": [],
       "dbfsResultPath": null,
       "isJsonSchema": true,
       "metadata": {},
       "overflow": false,
       "plotOptions": {
        "customPlotOptions": {},
        "displayType": "table",
        "pivotAggregation": null,
        "pivotColumns": null,
        "xColumns": null,
        "yColumns": null
       },
       "removedWidgets": [],
       "schema": [
        {
         "metadata": "{}",
         "name": "category",
         "type": "\"string\""
        },
        {
         "metadata": "{}",
         "name": "total_revenue",
         "type": "\"long\""
        }
       ],
       "type": "table"
      }
     },
     "output_type": "display_data"
    },
    {
     "output_type": "display_data",
     "data": {
      "text/html": [
       "<style scoped>\n",
       "  .table-result-container {\n",
       "    max-height: 300px;\n",
       "    overflow: auto;\n",
       "  }\n",
       "  table, th, td {\n",
       "    border: 1px solid black;\n",
       "    border-collapse: collapse;\n",
       "  }\n",
       "  th, td {\n",
       "    padding: 5px;\n",
       "  }\n",
       "  th {\n",
       "    text-align: left;\n",
       "  }\n",
       "</style><div class='table-result-container'><table class='table-result'><thead style='background-color: white'><tr><th>name</th><th>total_spent</th></tr></thead><tbody><tr><td>Rahul Sharma</td><td>64000</td></tr></tbody></table></div>"
      ]
     },
     "metadata": {
      "application/vnd.databricks.v1+output": {
       "addedWidgets": {},
       "aggData": [],
       "aggError": "",
       "aggOverflow": false,
       "aggSchema": [],
       "aggSeriesLimitReached": false,
       "aggType": "",
       "arguments": {},
       "columnCustomDisplayInfos": {},
       "data": [
        [
         "Rahul Sharma",
         64000
        ]
       ],
       "datasetInfos": [],
       "dbfsResultPath": null,
       "isJsonSchema": true,
       "metadata": {},
       "overflow": false,
       "plotOptions": {
        "customPlotOptions": {},
        "displayType": "table",
        "pivotAggregation": null,
        "pivotColumns": null,
        "xColumns": null,
        "yColumns": null
       },
       "removedWidgets": [],
       "schema": [
        {
         "metadata": "{}",
         "name": "name",
         "type": "\"string\""
        },
        {
         "metadata": "{}",
         "name": "total_spent",
         "type": "\"long\""
        }
       ],
       "type": "table"
      }
     },
     "output_type": "display_data"
    },
    {
     "output_type": "display_data",
     "data": {
      "text/html": [
       "<style scoped>\n",
       "  .table-result-container {\n",
       "    max-height: 300px;\n",
       "    overflow: auto;\n",
       "  }\n",
       "  table, th, td {\n",
       "    border: 1px solid black;\n",
       "    border-collapse: collapse;\n",
       "  }\n",
       "  th, td {\n",
       "    padding: 5px;\n",
       "  }\n",
       "  th {\n",
       "    text-align: left;\n",
       "  }\n",
       "</style><div class='table-result-container'><table class='table-result'><thead style='background-color: white'><tr><th>month</th><th>total_sales</th></tr></thead><tbody><tr><td>1</td><td>105000</td></tr><tr><td>2</td><td>14000</td></tr><tr><td>3</td><td>63500</td></tr></tbody></table></div>"
      ]
     },
     "metadata": {
      "application/vnd.databricks.v1+output": {
       "addedWidgets": {},
       "aggData": [],
       "aggError": "",
       "aggOverflow": false,
       "aggSchema": [],
       "aggSeriesLimitReached": false,
       "aggType": "",
       "arguments": {},
       "columnCustomDisplayInfos": {},
       "data": [
        [
         1,
         105000
        ],
        [
         2,
         14000
        ],
        [
         3,
         63500
        ]
       ],
       "datasetInfos": [],
       "dbfsResultPath": null,
       "isJsonSchema": true,
       "metadata": {},
       "overflow": false,
       "plotOptions": {
        "customPlotOptions": {},
        "displayType": "table",
        "pivotAggregation": null,
        "pivotColumns": null,
        "xColumns": null,
        "yColumns": null
       },
       "removedWidgets": [],
       "schema": [
        {
         "metadata": "{}",
         "name": "month",
         "type": "\"integer\""
        },
        {
         "metadata": "{}",
         "name": "total_sales",
         "type": "\"long\""
        }
       ],
       "type": "table"
      }
     },
     "output_type": "display_data"
    }
   ],
   "source": [
    "# Step 6: SQL Queries using Temporary Views\n",
    "\n",
    "# Create temporary SQL views from DataFrames\n",
    "customers_df.createOrReplaceTempView(\"customers\")\n",
    "products_df.createOrReplaceTempView(\"products\")\n",
    "orders_total_df.createOrReplaceTempView(\"orders\")\n",
    "\n",
    "# Top 2 cities by total revenue\n",
    "query1 = spark.sql(\"\"\"\n",
    "SELECT c.city, ROUND(SUM(o.total_price),2) AS total_revenue\n",
    "FROM orders o\n",
    "JOIN customers c ON o.customer_id = c.customer_id\n",
    "GROUP BY c.city\n",
    "ORDER BY total_revenue DESC\n",
    "LIMIT 2\n",
    "\"\"\")\n",
    "display(query1)\n",
    "\n",
    "# Most popular category by total revenue\n",
    "query2 = spark.sql(\"\"\"\n",
    "SELECT p.category, SUM(o.total_price) AS total_revenue\n",
    "FROM orders o\n",
    "JOIN products p ON o.product_id = p.product_id\n",
    "GROUP BY p.category\n",
    "ORDER BY total_revenue DESC\n",
    "LIMIT 1\n",
    "\"\"\")\n",
    "display(query2)\n",
    "\n",
    "# Customers who spent more than ₹50,000\n",
    "query3 = spark.sql(\"\"\"\n",
    "SELECT c.name, SUM(o.total_price) AS total_spent\n",
    "FROM orders o\n",
    "JOIN customers c ON o.customer_id = c.customer_id\n",
    "GROUP BY c.name\n",
    "HAVING total_spent > 50000\n",
    "\"\"\")\n",
    "display(query3)\n",
    "\n",
    "# Monthly sales trend (sum of total_price by month)\n",
    "query4 = spark.sql(\"\"\"\n",
    "SELECT MONTH(order_date) AS month, SUM(total_price) AS total_sales\n",
    "FROM orders\n",
    "GROUP BY month\n",
    "ORDER BY month\n",
    "\"\"\")\n",
    "display(query4)\n"
   ]
  },
  {
   "cell_type": "markdown",
   "metadata": {
    "application/vnd.databricks.v1+cell": {
     "cellMetadata": {},
     "inputWidgets": {},
     "nuid": "e82817a1-f155-45ef-b458-7ec2537b5951",
     "showTitle": false,
     "tableResultSettingsMap": {},
     "title": ""
    }
   },
   "source": [
    "# Step 7: File Operations\n",
    "\n",
    "In this step, we perform file operations with Spark DataFrames:  \n",
    "\n",
    "- **Save DataFrame:** Save `orders_total_df` as a CSV file in DBFS.  \n",
    "- **List files:** Verify the saved files by listing the folder contents.  \n",
    "- **Read CSV:** Load the saved CSV back into a new DataFrame `summary_df`.  \n",
    "\n",
    "All results are displayed to confirm successful file operations.\n"
   ]
  },
  {
   "cell_type": "code",
   "execution_count": 0,
   "metadata": {
    "application/vnd.databricks.v1+cell": {
     "cellMetadata": {
      "byteLimit": 2048000,
      "rowLimit": 10000
     },
     "inputWidgets": {},
     "nuid": "c379da5a-a2bc-47c1-9144-8082e4bbe8dc",
     "showTitle": false,
     "tableResultSettingsMap": {},
     "title": ""
    }
   },
   "outputs": [
    {
     "output_type": "display_data",
     "data": {
      "text/html": [
       "<style scoped>\n",
       "  .table-result-container {\n",
       "    max-height: 300px;\n",
       "    overflow: auto;\n",
       "  }\n",
       "  table, th, td {\n",
       "    border: 1px solid black;\n",
       "    border-collapse: collapse;\n",
       "  }\n",
       "  th, td {\n",
       "    padding: 5px;\n",
       "  }\n",
       "  th {\n",
       "    text-align: left;\n",
       "  }\n",
       "</style><div class='table-result-container'><table class='table-result'><thead style='background-color: white'><tr><th>path</th><th>name</th><th>size</th><th>modificationTime</th></tr></thead><tbody><tr><td>dbfs:/FileStore/tables/orders_summary/_SUCCESS</td><td>_SUCCESS</td><td>0</td><td>1759814436000</td></tr><tr><td>dbfs:/FileStore/tables/orders_summary/_committed_7775254708593835241</td><td>_committed_7775254708593835241</td><td>113</td><td>1759814436000</td></tr><tr><td>dbfs:/FileStore/tables/orders_summary/_started_7775254708593835241</td><td>_started_7775254708593835241</td><td>0</td><td>1759814436000</td></tr><tr><td>dbfs:/FileStore/tables/orders_summary/part-00000-tid-7775254708593835241-f768bc2b-e8f8-4f35-a811-73a54468a408-202-1-c000.csv</td><td>part-00000-tid-7775254708593835241-f768bc2b-e8f8-4f35-a811-73a54468a408-202-1-c000.csv</td><td>369</td><td>1759814436000</td></tr></tbody></table></div>"
      ]
     },
     "metadata": {
      "application/vnd.databricks.v1+output": {
       "addedWidgets": {},
       "aggData": [],
       "aggError": "",
       "aggOverflow": false,
       "aggSchema": [],
       "aggSeriesLimitReached": false,
       "aggType": "",
       "arguments": {},
       "columnCustomDisplayInfos": {},
       "data": [
        [
         "dbfs:/FileStore/tables/orders_summary/_SUCCESS",
         "_SUCCESS",
         0,
         1759814436000
        ],
        [
         "dbfs:/FileStore/tables/orders_summary/_committed_7775254708593835241",
         "_committed_7775254708593835241",
         113,
         1759814436000
        ],
        [
         "dbfs:/FileStore/tables/orders_summary/_started_7775254708593835241",
         "_started_7775254708593835241",
         0,
         1759814436000
        ],
        [
         "dbfs:/FileStore/tables/orders_summary/part-00000-tid-7775254708593835241-f768bc2b-e8f8-4f35-a811-73a54468a408-202-1-c000.csv",
         "part-00000-tid-7775254708593835241-f768bc2b-e8f8-4f35-a811-73a54468a408-202-1-c000.csv",
         369,
         1759814436000
        ]
       ],
       "datasetInfos": [],
       "dbfsResultPath": null,
       "isJsonSchema": true,
       "metadata": {},
       "overflow": false,
       "plotOptions": {
        "customPlotOptions": {},
        "displayType": "table",
        "pivotAggregation": null,
        "pivotColumns": null,
        "xColumns": null,
        "yColumns": null
       },
       "removedWidgets": [],
       "schema": [
        {
         "metadata": "{}",
         "name": "path",
         "type": "\"string\""
        },
        {
         "metadata": "{}",
         "name": "name",
         "type": "\"string\""
        },
        {
         "metadata": "{}",
         "name": "size",
         "type": "\"long\""
        },
        {
         "metadata": "{}",
         "name": "modificationTime",
         "type": "\"long\""
        }
       ],
       "type": "table"
      }
     },
     "output_type": "display_data"
    },
    {
     "output_type": "display_data",
     "data": {
      "text/html": [
       "<style scoped>\n",
       "  .table-result-container {\n",
       "    max-height: 300px;\n",
       "    overflow: auto;\n",
       "  }\n",
       "  table, th, td {\n",
       "    border: 1px solid black;\n",
       "    border-collapse: collapse;\n",
       "  }\n",
       "  th, td {\n",
       "    padding: 5px;\n",
       "  }\n",
       "  th {\n",
       "    text-align: left;\n",
       "  }\n",
       "</style><div class='table-result-container'><table class='table-result'><thead style='background-color: white'><tr><th>101</th><th>1001</th><th>12</th><th>13</th><th>2024-01-10</th><th>Laptop</th><th>Electronics</th><th>550007</th><th>550008</th></tr></thead><tbody><tr><td>102</td><td>1002</td><td>2</td><td>2</td><td>2024-01-12</td><td>Mobile</td><td>Electronics</td><td>25000</td><td>50000</td></tr><tr><td>103</td><td>1003</td><td>1</td><td>3</td><td>2024-02-05</td><td>Headphones</td><td>Electronics</td><td>3000</td><td>9000</td></tr><tr><td>104</td><td>1004</td><td>3</td><td>1</td><td>2024-02-08</td><td>Chair</td><td>Furniture</td><td>5000</td><td>5000</td></tr><tr><td>105</td><td>1005</td><td>5</td><td>5</td><td>2024-03-01</td><td>Book</td><td>Stationery</td><td>700</td><td>3500</td></tr><tr><td>106</td><td>1006</td><td>6</td><td>2</td><td>2024-03-15</td><td>Shoes</td><td>Fashion</td><td>2500</td><td>5000</td></tr><tr><td>101</td><td>1007</td><td>7</td><td>1</td><td>2024-03-20</td><td>Laptop</td><td>Electronics</td><td>55000</td><td>55000</td></tr></tbody></table></div>"
      ]
     },
     "metadata": {
      "application/vnd.databricks.v1+output": {
       "addedWidgets": {},
       "aggData": [],
       "aggError": "",
       "aggOverflow": false,
       "aggSchema": [],
       "aggSeriesLimitReached": false,
       "aggType": "",
       "arguments": {},
       "columnCustomDisplayInfos": {},
       "data": [
        [
         102,
         1002,
         2,
         2,
         "2024-01-12",
         "Mobile",
         "Electronics",
         25000,
         50000
        ],
        [
         103,
         1003,
         1,
         3,
         "2024-02-05",
         "Headphones",
         "Electronics",
         3000,
         9000
        ],
        [
         104,
         1004,
         3,
         1,
         "2024-02-08",
         "Chair",
         "Furniture",
         5000,
         5000
        ],
        [
         105,
         1005,
         5,
         5,
         "2024-03-01",
         "Book",
         "Stationery",
         700,
         3500
        ],
        [
         106,
         1006,
         6,
         2,
         "2024-03-15",
         "Shoes",
         "Fashion",
         2500,
         5000
        ],
        [
         101,
         1007,
         7,
         1,
         "2024-03-20",
         "Laptop",
         "Electronics",
         55000,
         55000
        ]
       ],
       "datasetInfos": [],
       "dbfsResultPath": null,
       "isJsonSchema": true,
       "metadata": {},
       "overflow": false,
       "plotOptions": {
        "customPlotOptions": {},
        "displayType": "table",
        "pivotAggregation": null,
        "pivotColumns": null,
        "xColumns": null,
        "yColumns": null
       },
       "removedWidgets": [],
       "schema": [
        {
         "metadata": "{}",
         "name": "101",
         "type": "\"integer\""
        },
        {
         "metadata": "{}",
         "name": "1001",
         "type": "\"integer\""
        },
        {
         "metadata": "{}",
         "name": "12",
         "type": "\"integer\""
        },
        {
         "metadata": "{}",
         "name": "13",
         "type": "\"integer\""
        },
        {
         "metadata": "{\"__detected_date_formats\": \"yyyy-M-d\"}",
         "name": "2024-01-10",
         "type": "\"date\""
        },
        {
         "metadata": "{}",
         "name": "Laptop",
         "type": "\"string\""
        },
        {
         "metadata": "{}",
         "name": "Electronics",
         "type": "\"string\""
        },
        {
         "metadata": "{}",
         "name": "550007",
         "type": "\"integer\""
        },
        {
         "metadata": "{}",
         "name": "550008",
         "type": "\"integer\""
        }
       ],
       "type": "table"
      }
     },
     "output_type": "display_data"
    }
   ],
   "source": [
    "# Step 7: File Operations\n",
    "\n",
    "# Save the orders_total_df DataFrame as CSV in DBFS\n",
    "orders_total_df.write.mode(\"overwrite\").csv(\"/FileStore/tables/orders_summary\")\n",
    "\n",
    "# List files inside the saved folder to confirm\n",
    "display(dbutils.fs.ls(\"/FileStore/tables/orders_summary\"))\n",
    "\n",
    "# Read back the saved CSV into a new DataFrame\n",
    "summary_df = spark.read.csv(\"/FileStore/tables/orders_summary\", header=True, inferSchema=True)\n",
    "display(summary_df)\n"
   ]
  },
  {
   "cell_type": "markdown",
   "metadata": {
    "application/vnd.databricks.v1+cell": {
     "cellMetadata": {},
     "inputWidgets": {},
     "nuid": "4c353af9-d13a-480b-82d3-560249d56e1f",
     "showTitle": false,
     "tableResultSettingsMap": {},
     "title": ""
    }
   },
   "source": [
    "# Step 8: Visualization\n",
    "\n",
    "In this step, we visualize the data:  \n",
    "\n",
    "- Convert the Spark DataFrame to a Pandas DataFrame for plotting.  \n",
    "- Group total sales by product category.  \n",
    "- Create a bar chart showing revenue per category.  \n",
    "- Customize the chart with title, labels, and rotation for readability.  \n",
    "- Display the chart to analyze total sales by category.\n"
   ]
  },
  {
   "cell_type": "code",
   "execution_count": 0,
   "metadata": {
    "application/vnd.databricks.v1+cell": {
     "cellMetadata": {
      "byteLimit": 2048000,
      "rowLimit": 10000
     },
     "inputWidgets": {},
     "nuid": "620537df-14ee-4946-8245-ef61ede9b2c6",
     "showTitle": false,
     "tableResultSettingsMap": {},
     "title": ""
    }
   },
   "outputs": [
    {
     "output_type": "display_data",
     "data": {
      "image/png": "[encoded data removed]",
      "text/plain": [
       "<Figure size 600x400 with 1 Axes>"
      ]
     },
     "metadata": {},
     "output_type": "display_data"
    }
   ],
   "source": [
    "# Step 8: Visualization\n",
    "\n",
    "# Convert Spark DataFrame to Pandas for visualization\n",
    "import pandas as pd\n",
    "import matplotlib.pyplot as plt\n",
    "\n",
    "region_df = orders_total_df.groupBy(\"category\").sum(\"total_price\").toPandas()\n",
    "\n",
    "# Create bar chart for total sales by category\n",
    "plt.figure(figsize=(6,4))\n",
    "plt.bar(region_df[\"category\"], region_df[\"sum(total_price)\"], color=\"skyblue\")\n",
    "plt.title(\"Total Sales by Category\")\n",
    "plt.xlabel(\"Category\")\n",
    "plt.ylabel(\"Revenue (₹)\")\n",
    "plt.xticks(rotation=45)\n",
    "plt.show()\n"
   ]
  }
 ],
 "metadata": {
  "application/vnd.databricks.v1+notebook": {
   "computePreferences": null,
   "dashboards": [],
   "environmentMetadata": {
    "base_environment": "",
    "environment_version": "3"
   },
   "inputWidgetPreferences": null,
   "language": "python",
   "notebookMetadata": {
    "pythonIndentUnit": 4
   },
   "notebookName": "E-Commerce Analytics with PySpark in Azure Databricks",
   "widgets": {}
  },
  "language_info": {
   "name": "python"
  }
 },
 "nbformat": 4,
 "nbformat_minor": 0
}