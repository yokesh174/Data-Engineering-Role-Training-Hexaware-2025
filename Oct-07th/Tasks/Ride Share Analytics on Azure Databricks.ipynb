{
 "cells": [
  {
   "cell_type": "code",
   "execution_count": 0,
   "metadata": {
    "application/vnd.databricks.v1+cell": {
     "cellMetadata": {
      "byteLimit": 2048000,
      "rowLimit": 10000
     },
     "inputWidgets": {},
     "nuid": "b7466263-982f-4144-b511-43bf24aa2d9c",
     "showTitle": false,
     "tableResultSettingsMap": {},
     "title": ""
    }
   },
   "outputs": [],
   "source": [
    "# 1. Load all three files into separate DataFrames\n",
    "drivers_df = spark.read.csv(\"/FileStore/tables/drivers.csv\", header=True, inferSchema=True)\n",
    "rides_df = spark.read.csv(\"/FileStore/tables/rides.csv\", header=True, inferSchema=True)\n",
    "feedback_df = spark.read.csv(\"/FileStore/tables/feedback.csv\", header=True, inferSchema=True)\n"
   ]
  },
  {
   "cell_type": "code",
   "execution_count": 0,
   "metadata": {
    "application/vnd.databricks.v1+cell": {
     "cellMetadata": {
      "byteLimit": 2048000,
      "rowLimit": 10000
     },
     "inputWidgets": {},
     "nuid": "42327228-cafb-4285-9aef-cde5913b02ae",
     "showTitle": false,
     "tableResultSettingsMap": {},
     "title": ""
    }
   },
   "outputs": [
    {
     "output_type": "stream",
     "name": "stdout",
     "output_type": "stream",
     "text": [
      "root\n |-- driver_id: integer (nullable = true)\n |-- driver_name: string (nullable = true)\n |-- city: string (nullable = true)\n |-- experience_years: integer (nullable = true)\n |-- rating: double (nullable = true)\n\nroot\n |-- ride_id: integer (nullable = true)\n |-- driver_id: integer (nullable = true)\n |-- distance_km: integer (nullable = true)\n |-- price: integer (nullable = true)\n |-- ride_date: date (nullable = true)\n\nroot\n |-- ride_id: integer (nullable = true)\n |-- customer_feedback: string (nullable = true)\n\n"
     ]
    }
   ],
   "source": [
    "# 2. Inspect schemas and verify correct data types\n",
    "drivers_df.printSchema()\n",
    "rides_df.printSchema()\n",
    "feedback_df.printSchema()\n"
   ]
  },
  {
   "cell_type": "code",
   "execution_count": 0,
   "metadata": {
    "application/vnd.databricks.v1+cell": {
     "cellMetadata": {
      "byteLimit": 2048000,
      "rowLimit": 10000
     },
     "inputWidgets": {},
     "nuid": "a24337aa-e1f7-432c-a087-875af1b78720",
     "showTitle": false,
     "tableResultSettingsMap": {},
     "title": ""
    }
   },
   "outputs": [
    {
     "output_type": "stream",
     "name": "stdout",
     "output_type": "stream",
     "text": [
      "+---------+-------+-----------+-----+----------+\n|driver_id|ride_id|distance_km|price| ride_date|\n+---------+-------+-----------+-----+----------+\n|        7|   1008|         11|  270|2024-02-22|\n+---------+-------+-----------+-----+----------+\n\n"
     ]
    }
   ],
   "source": [
    "# 3. Identify rides with missing drivers\n",
    "rides_df.join(drivers_df, \"driver_id\", \"left_anti\").show()\n"
   ]
  },
  {
   "cell_type": "code",
   "execution_count": 0,
   "metadata": {
    "application/vnd.databricks.v1+cell": {
     "cellMetadata": {
      "byteLimit": 2048000,
      "rowLimit": 10000
     },
     "inputWidgets": {},
     "nuid": "e0977874-a00a-4ad7-b9cc-10e86b453102",
     "showTitle": false,
     "tableResultSettingsMap": {},
     "title": ""
    }
   },
   "outputs": [
    {
     "output_type": "stream",
     "name": "stdout",
     "output_type": "stream",
     "text": [
      "+---------+-------+-----------+-----+----------+------------+---------+----------------+------+\n|driver_id|ride_id|distance_km|price| ride_date| driver_name|     city|experience_years|rating|\n+---------+-------+-----------+-----+----------+------------+---------+----------------+------+\n|        1|   1001|         10|  250|2024-02-01|  Arun Kumar|Bangalore|               4|   4.6|\n|        2|   1002|          7|  180|2024-02-03|   Pooja Rao|  Chennai|               2|   4.3|\n|        3|   1003|         15|  500|2024-02-05|Imran Sheikh|    Delhi|               6|   4.8|\n|        4|   1004|          5|  120|2024-02-08| Nisha Patel|Hyderabad|               1|   4.0|\n|        1|   1005|         12|  300|2024-02-10|  Arun Kumar|Bangalore|               4|   4.6|\n|        5|   1006|         20|  800|2024-02-15| Rajesh Naik|   Mumbai|               8|   4.9|\n|        6|   1007|          9|  230|2024-02-20| Sneha Menon|Bangalore|               3|   4.4|\n|        7|   1008|         11|  270|2024-02-22|        NULL|     NULL|            NULL|  NULL|\n+---------+-------+-----------+-----+----------+------------+---------+----------------+------+\n\n"
     ]
    }
   ],
   "source": [
    "# 4. Join rides ↔ drivers\n",
    "rides_with_drivers = rides_df.join(drivers_df, \"driver_id\", \"left\")\n",
    "rides_with_drivers.show()"
   ]
  },
  {
   "cell_type": "code",
   "execution_count": 0,
   "metadata": {
    "application/vnd.databricks.v1+cell": {
     "cellMetadata": {
      "byteLimit": 2048000,
      "rowLimit": 10000
     },
     "inputWidgets": {},
     "nuid": "a8cecb07-f420-4dae-88a2-0e9d2689c49c",
     "showTitle": false,
     "tableResultSettingsMap": {},
     "title": ""
    }
   },
   "outputs": [
    {
     "output_type": "stream",
     "name": "stdout",
     "output_type": "stream",
     "text": [
      "+---------+-------+-----------+-----+----------+------------+---------+----------------+------+------------------+\n|driver_id|ride_id|distance_km|price| ride_date| driver_name|     city|experience_years|rating|   earnings_per_km|\n+---------+-------+-----------+-----+----------+------------+---------+----------------+------+------------------+\n|        1|   1001|         10|  250|2024-02-01|  Arun Kumar|Bangalore|               4|   4.6|              25.0|\n|        2|   1002|          7|  180|2024-02-03|   Pooja Rao|  Chennai|               2|   4.3|25.714285714285715|\n|        3|   1003|         15|  500|2024-02-05|Imran Sheikh|    Delhi|               6|   4.8|33.333333333333336|\n|        4|   1004|          5|  120|2024-02-08| Nisha Patel|Hyderabad|               1|   4.0|              24.0|\n|        1|   1005|         12|  300|2024-02-10|  Arun Kumar|Bangalore|               4|   4.6|              25.0|\n|        5|   1006|         20|  800|2024-02-15| Rajesh Naik|   Mumbai|               8|   4.9|              40.0|\n|        6|   1007|          9|  230|2024-02-20| Sneha Menon|Bangalore|               3|   4.4|25.555555555555557|\n|        7|   1008|         11|  270|2024-02-22|        NULL|     NULL|            NULL|  NULL|24.545454545454547|\n+---------+-------+-----------+-----+----------+------------+---------+----------------+------+------------------+\n\n"
     ]
    }
   ],
   "source": [
    "# 5. Add column earnings_per_km\n",
    "rides_with_drivers = rides_with_drivers.withColumn(\"earnings_per_km\", \n",
    "    (rides_with_drivers.price / rides_with_drivers.distance_km))\n",
    "rides_with_drivers.show()\n"
   ]
  },
  {
   "cell_type": "code",
   "execution_count": 0,
   "metadata": {
    "application/vnd.databricks.v1+cell": {
     "cellMetadata": {
      "byteLimit": 2048000,
      "rowLimit": 10000
     },
     "inputWidgets": {},
     "nuid": "dcb98b69-33b3-4c88-9aef-cd2958eb5dfa",
     "showTitle": false,
     "tableResultSettingsMap": {},
     "title": ""
    }
   },
   "outputs": [
    {
     "output_type": "stream",
     "name": "stdout",
     "output_type": "stream",
     "text": [
      "+---------+-------------+\n|     city|total_revenue|\n+---------+-------------+\n|     NULL|          270|\n|Bangalore|          780|\n|  Chennai|          180|\n|    Delhi|          500|\n|   Mumbai|          800|\n|Hyderabad|          120|\n+---------+-------------+\n\n"
     ]
    }
   ],
   "source": [
    "# 6. Calculate total revenue per city\n",
    "from pyspark.sql.functions import sum\n",
    "rides_with_drivers.groupBy(\"city\").agg(sum(\"price\").alias(\"total_revenue\")).show()\n"
   ]
  },
  {
   "cell_type": "code",
   "execution_count": 0,
   "metadata": {
    "application/vnd.databricks.v1+cell": {
     "cellMetadata": {
      "byteLimit": 2048000,
      "rowLimit": 10000
     },
     "inputWidgets": {},
     "nuid": "c94703a9-e2b7-42f4-9958-fc9a7e8f9540",
     "showTitle": false,
     "tableResultSettingsMap": {},
     "title": ""
    }
   },
   "outputs": [
    {
     "output_type": "stream",
     "name": "stdout",
     "output_type": "stream",
     "text": [
      "+---------+----------+\n|     city|avg_rating|\n+---------+----------+\n|Bangalore|       4.5|\n|  Chennai|       4.3|\n|    Delhi|       4.8|\n|   Mumbai|       4.9|\n|Hyderabad|       4.0|\n+---------+----------+\n\n"
     ]
    }
   ],
   "source": [
    "# 7. Determine average rating by city\n",
    "from pyspark.sql.functions import avg\n",
    "drivers_df.groupBy(\"city\").agg(avg(\"rating\").alias(\"avg_rating\")).show()\n"
   ]
  },
  {
   "cell_type": "code",
   "execution_count": 0,
   "metadata": {
    "application/vnd.databricks.v1+cell": {
     "cellMetadata": {
      "byteLimit": 2048000,
      "rowLimit": 10000
     },
     "inputWidgets": {},
     "nuid": "9f5ecc0e-fe0b-48bf-902a-d6c69816afe5",
     "showTitle": false,
     "tableResultSettingsMap": {},
     "title": ""
    }
   },
   "outputs": [
    {
     "output_type": "stream",
     "name": "stdout",
     "output_type": "stream",
     "text": [
      "+---------+------------+---------+--------------+----+\n|driver_id| driver_name|     city|total_earnings|rank|\n+---------+------------+---------+--------------+----+\n|        7|        NULL|     NULL|           270|   1|\n|        1|  Arun Kumar|Bangalore|           550|   1|\n|        2|   Pooja Rao|  Chennai|           180|   1|\n|        3|Imran Sheikh|    Delhi|           500|   1|\n|        4| Nisha Patel|Hyderabad|           120|   1|\n|        5| Rajesh Naik|   Mumbai|           800|   1|\n+---------+------------+---------+--------------+----+\n\n"
     ]
    }
   ],
   "source": [
    "# 8. Find the top earning driver in each city using a window function\n",
    "from pyspark.sql.window import Window\n",
    "from pyspark.sql.functions import rank, sum\n",
    "\n",
    "driver_earnings = rides_with_drivers.groupBy(\"driver_id\",\"driver_name\",\"city\") \\\n",
    "    .agg(sum(\"price\").alias(\"total_earnings\"))\n",
    "\n",
    "windowSpec = Window.partitionBy(\"city\").orderBy(driver_earnings[\"total_earnings\"].desc())\n",
    "\n",
    "top_drivers = driver_earnings.withColumn(\"rank\", rank().over(windowSpec)) \\\n",
    "    .filter(\"rank = 1\")\n",
    "top_drivers.show()\n"
   ]
  },
  {
   "cell_type": "code",
   "execution_count": 0,
   "metadata": {
    "application/vnd.databricks.v1+cell": {
     "cellMetadata": {
      "byteLimit": 2048000,
      "rowLimit": 10000
     },
     "inputWidgets": {},
     "nuid": "d9a697ed-1a89-4af1-9ffa-870172c348a9",
     "showTitle": false,
     "tableResultSettingsMap": {},
     "title": ""
    }
   },
   "outputs": [
    {
     "output_type": "stream",
     "name": "stdout",
     "output_type": "stream",
     "text": [
      "+---------+-----------+----+----------------+------+\n|driver_id|driver_name|city|experience_years|rating|\n+---------+-----------+----+----------------+------+\n+---------+-----------+----+----------------+------+\n\n"
     ]
    }
   ],
   "source": [
    "# 9. Identify drivers with no rides\n",
    "drivers_df.join(rides_df, \"driver_id\", \"left_anti\").show()\n"
   ]
  },
  {
   "cell_type": "code",
   "execution_count": 0,
   "metadata": {
    "application/vnd.databricks.v1+cell": {
     "cellMetadata": {
      "byteLimit": 2048000,
      "rowLimit": 10000
     },
     "inputWidgets": {},
     "nuid": "f6fa35e7-e3a7-46f7-aab1-d4b799b69fd4",
     "showTitle": false,
     "tableResultSettingsMap": {},
     "title": ""
    }
   },
   "outputs": [
    {
     "output_type": "stream",
     "name": "stdout",
     "output_type": "stream",
     "text": [
      "+-------+---------+-----------+-----+----------+------------+---------+----------------+------+------------------+-----------------+\n|ride_id|driver_id|distance_km|price| ride_date| driver_name|     city|experience_years|rating|   earnings_per_km|customer_feedback|\n+-------+---------+-----------+-----+----------+------------+---------+----------------+------+------------------+-----------------+\n|   1001|        1|         10|  250|2024-02-01|  Arun Kumar|Bangalore|               4|   4.6|              25.0|        Excellent|\n|   1002|        2|          7|  180|2024-02-03|   Pooja Rao|  Chennai|               2|   4.3|25.714285714285715|             Good|\n|   1003|        3|         15|  500|2024-02-05|Imran Sheikh|    Delhi|               6|   4.8|33.333333333333336|        Excellent|\n|   1004|        4|          5|  120|2024-02-08| Nisha Patel|Hyderabad|               1|   4.0|              24.0|          Average|\n|   1005|        1|         12|  300|2024-02-10|  Arun Kumar|Bangalore|               4|   4.6|              25.0|             Good|\n|   1006|        5|         20|  800|2024-02-15| Rajesh Naik|   Mumbai|               8|   4.9|              40.0|        Excellent|\n|   1007|        6|          9|  230|2024-02-20| Sneha Menon|Bangalore|               3|   4.4|25.555555555555557|          Average|\n|   1008|        7|         11|  270|2024-02-22|        NULL|     NULL|            NULL|  NULL|24.545454545454547|             Good|\n+-------+---------+-----------+-----+----------+------------+---------+----------------+------+------------------+-----------------+\n\n"
     ]
    }
   ],
   "source": [
    "# 10. Combine the feedback dataset to mark ride performance\n",
    "rides_feedback = rides_with_drivers.join(feedback_df, \"ride_id\", \"left\")\n",
    "rides_feedback.show()\n"
   ]
  },
  {
   "cell_type": "code",
   "execution_count": 0,
   "metadata": {
    "application/vnd.databricks.v1+cell": {
     "cellMetadata": {
      "byteLimit": 2048000,
      "rowLimit": 10000
     },
     "inputWidgets": {},
     "nuid": "28ed154c-1ee2-4b6f-b68a-0b9f078452c4",
     "showTitle": false,
     "tableResultSettingsMap": {},
     "title": ""
    }
   },
   "outputs": [
    {
     "output_type": "stream",
     "name": "stdout",
     "output_type": "stream",
     "text": [
      "+-----------------+----------+\n|customer_feedback|ride_count|\n+-----------------+----------+\n|          Average|         2|\n|        Excellent|         3|\n|             Good|         3|\n+-----------------+----------+\n\n"
     ]
    }
   ],
   "source": [
    "# 11. Count rides by feedback category\n",
    "from pyspark.sql.functions import count\n",
    "feedback_df.groupBy(\"customer_feedback\").agg(count(\"*\").alias(\"ride_count\")).show()\n"
   ]
  },
  {
   "cell_type": "code",
   "execution_count": 0,
   "metadata": {
    "application/vnd.databricks.v1+cell": {
     "cellMetadata": {
      "byteLimit": 2048000,
      "rowLimit": 10000
     },
     "inputWidgets": {},
     "nuid": "00d665da-54da-4719-8ed8-a66ae279a6ed",
     "showTitle": false,
     "tableResultSettingsMap": {},
     "title": ""
    }
   },
   "outputs": [
    {
     "output_type": "stream",
     "name": "stdout",
     "output_type": "stream",
     "text": [
      "+---------+---------+\n|     city|avg_price|\n+---------+---------+\n|   Mumbai|    800.0|\n|    Delhi|    500.0|\n|     NULL|    270.0|\n|Bangalore|    260.0|\n|  Chennai|    180.0|\n|Hyderabad|    120.0|\n+---------+---------+\n\n"
     ]
    }
   ],
   "source": [
    "# 12. Using SQL view, find cities with highest average ride price\n",
    "rides_with_drivers.createOrReplaceTempView(\"rides_table\")\n",
    "\n",
    "spark.sql(\"\"\"\n",
    "    SELECT city, AVG(price) AS avg_price\n",
    "    FROM rides_table\n",
    "    GROUP BY city\n",
    "    ORDER BY avg_price DESC\n",
    "\"\"\").show()\n"
   ]
  },
  {
   "cell_type": "code",
   "execution_count": 0,
   "metadata": {
    "application/vnd.databricks.v1+cell": {
     "cellMetadata": {
      "byteLimit": 2048000,
      "rowLimit": 10000
     },
     "inputWidgets": {},
     "nuid": "541f467e-424c-45a9-aea8-662af810502e",
     "showTitle": false,
     "tableResultSettingsMap": {},
     "title": ""
    }
   },
   "outputs": [],
   "source": [
    "# 13. Save final combined DataFrame as rides_summary.csv in DBFS\n",
    "rides_feedback.write.csv(\"/FileStore/tables/rides_summary.csv\", header=True, mode=\"overwrite\")"
   ]
  },
  {
   "cell_type": "code",
   "execution_count": 0,
   "metadata": {
    "application/vnd.databricks.v1+cell": {
     "cellMetadata": {
      "byteLimit": 2048000,
      "rowLimit": 10000
     },
     "inputWidgets": {},
     "nuid": "ffc0ebb7-d88e-4aec-9634-f7e874529189",
     "showTitle": false,
     "tableResultSettingsMap": {},
     "title": ""
    }
   },
   "outputs": [
    {
     "output_type": "display_data",
     "data": {
      "image/png": "[encoded data removed]",
      "text/plain": [
       "<Figure size 640x480 with 1 Axes>"
      ]
     },
     "metadata": {},
     "output_type": "display_data"
    }
   ],
   "source": [
    "# 14. Plot total earnings per city as a bar chart\n",
    "import matplotlib.pyplot as plt\n",
    "\n",
    "city_earnings = rides_with_drivers.groupBy(\"city\").agg(sum(\"price\").alias(\"total_revenue\")).filter(\"city is not null\").toPandas()\n",
    "\n",
    "plt.bar(city_earnings[\"city\"], city_earnings[\"total_revenue\"])\n",
    "plt.xlabel(\"City\")\n",
    "plt.ylabel(\"Total Revenue\")\n",
    "plt.title(\"Total Earnings per City\")\n",
    "plt.show()\n"
   ]
  }
 ],
 "metadata": {
  "application/vnd.databricks.v1+notebook": {
   "computePreferences": null,
   "dashboards": [],
   "environmentMetadata": {
    "base_environment": "",
    "environment_version": "3"
   },
   "inputWidgetPreferences": null,
   "language": "python",
   "notebookMetadata": {
    "pythonIndentUnit": 4
   },
   "notebookName": "Ride Share Analytics on Azure Databricks",
   "widgets": {}
  },
  "language_info": {
   "name": "python"
  }
 },
 "nbformat": 4,
 "nbformat_minor": 0
}